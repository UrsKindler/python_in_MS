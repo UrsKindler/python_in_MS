{
  "nbformat": 4,
  "nbformat_minor": 0,
  "metadata": {
    "colab": {
      "provenance": [],
      "authorship_tag": "ABX9TyN5GzSRJddcoJClFrGhYvxq",
      "include_colab_link": true
    },
    "kernelspec": {
      "name": "python3",
      "display_name": "Python 3"
    },
    "language_info": {
      "name": "python"
    }
  },
  "cells": [
    {
      "cell_type": "markdown",
      "metadata": {
        "id": "view-in-github",
        "colab_type": "text"
      },
      "source": [
        "<a href=\"https://colab.research.google.com/github/UrsKindler/python_in_MS/blob/main/week%202%20Python%20sprint.ipynb\" target=\"_parent\"><img src=\"https://colab.research.google.com/assets/colab-badge.svg\" alt=\"Open In Colab\"/></a>"
      ]
    },
    {
      "cell_type": "code",
      "execution_count": 1,
      "metadata": {
        "colab": {
          "base_uri": "https://localhost:8080/"
        },
        "id": "IbsYo1rRsTk4",
        "outputId": "22b3ad34-b808-4bed-aa71-35f7a8ae7c37"
      },
      "outputs": [
        {
          "output_type": "stream",
          "name": "stdout",
          "text": [
            "Hello world\n"
          ]
        }
      ],
      "source": [
        "print(\"Hello world\")"
      ]
    },
    {
      "cell_type": "code",
      "source": [
        "import pandas as pd\n"
      ],
      "metadata": {
        "id": "ZnyQ8L0oGx13"
      },
      "execution_count": 15,
      "outputs": []
    },
    {
      "cell_type": "code",
      "source": [
        "January Sales:\n",
        "   Region  Sales    Month\n",
        "0   North  25000  January\n",
        "1   South  30000  January\n",
        "2    East  20000  January\n",
        "3    West  15000  January"
      ],
      "metadata": {
        "id": "l79PHWj7EJLI"
      },
      "execution_count": null,
      "outputs": []
    },
    {
      "cell_type": "code",
      "source": [
        "   Region  Sales     Month\n",
        "0   North  27000  February\n",
        "1   South  32000  February\n",
        "2   East   23000  February\n",
        "3   West   18000  February"
      ],
      "metadata": {
        "id": "OKqTaacpELX3"
      },
      "execution_count": null,
      "outputs": []
    },
    {
      "cell_type": "code",
      "source": [
        "March Sales:\n",
        "   Region  Sales  Month\n",
        "0   North  28000  March\n",
        "1   South  31000  March\n",
        "2    East  24000  March\n",
        "3    West  20000  March"
      ],
      "metadata": {
        "id": "ZjOZHHEQEOdG"
      },
      "execution_count": null,
      "outputs": []
    },
    {
      "cell_type": "code",
      "source": [
        "data_january  = {\n",
        "    \"Region\" :[\"North\", \"South\", \"East\", \"West\"],\n",
        "    \"Sales\" :[\"25000\", \"30000\", \"20000\", \"15000\"],\n",
        "    \"Month\" :[\"January\", \"January\", \"January\", \"January\"]\n",
        "}"
      ],
      "metadata": {
        "id": "FqLeDf-GEeK_"
      },
      "execution_count": 11,
      "outputs": []
    },
    {
      "cell_type": "code",
      "source": [
        "data_february  = {\n",
        "    \"Region\" :[\"North\", \"South\", \"East\", \"West\"],\n",
        "    \"Sales\" :[\"27000\", \"32000\", \"23000\", \"18000\"],\n",
        "    \"Month\" :[\"February\", \"February\", \"February\", \"February\"]\n",
        "}"
      ],
      "metadata": {
        "id": "JNaIA4gFFxkQ"
      },
      "execution_count": 12,
      "outputs": []
    },
    {
      "cell_type": "code",
      "source": [
        "data_march = {\n",
        "    \"Region\" :[\"North\", \"South\", \"East\", \"West\"],\n",
        "    \"Sales\" :[\"28000\", \"31000\", \"24000\", \"20000\"],\n",
        "    \"Month\" :[\"March\", \"March\", \"March\", \"March\"]\n",
        "}"
      ],
      "metadata": {
        "id": "VWkZJLZ9F87I"
      },
      "execution_count": 13,
      "outputs": []
    },
    {
      "cell_type": "code",
      "source": [
        "data_jan = pd.DataFrame(data_january)\n",
        "print(data_jan)\n",
        "\n",
        "data_feb = pd.DataFrame(data_february)\n",
        "print(data_feb)\n",
        "\n",
        "data_mar = pd.DataFrame(data_march)\n",
        "print(data_mar)"
      ],
      "metadata": {
        "colab": {
          "base_uri": "https://localhost:8080/"
        },
        "id": "j_SboN3uGXU6",
        "outputId": "1e86f9ad-1e8d-44af-9edd-7dad068da055"
      },
      "execution_count": 17,
      "outputs": [
        {
          "output_type": "stream",
          "name": "stdout",
          "text": [
            "  Region  Sales    Month\n",
            "0  North  25000  January\n",
            "1  South  30000  January\n",
            "2   East  20000  January\n",
            "3   West  15000  January\n",
            "  Region  Sales     Month\n",
            "0  North  27000  February\n",
            "1  South  32000  February\n",
            "2   East  23000  February\n",
            "3   West  18000  February\n",
            "  Region  Sales  Month\n",
            "0  North  28000  March\n",
            "1  South  31000  March\n",
            "2   East  24000  March\n",
            "3   West  20000  March\n"
          ]
        }
      ]
    },
    {
      "cell_type": "code",
      "source": [
        "df_concatenated = pd.concat([data_jan, data_feb, data_mar], axis=0)\n",
        "print(df_concatenated)"
      ],
      "metadata": {
        "colab": {
          "base_uri": "https://localhost:8080/"
        },
        "id": "JDcGH3HRHIMS",
        "outputId": "93499d2d-a783-4de4-f476-a3c121817f5e"
      },
      "execution_count": 19,
      "outputs": [
        {
          "output_type": "stream",
          "name": "stdout",
          "text": [
            "  Region  Sales     Month\n",
            "0  North  25000   January\n",
            "1  South  30000   January\n",
            "2   East  20000   January\n",
            "3   West  15000   January\n",
            "0  North  27000  February\n",
            "1  South  32000  February\n",
            "2   East  23000  February\n",
            "3   West  18000  February\n",
            "0  North  28000     March\n",
            "1  South  31000     March\n",
            "2   East  24000     March\n",
            "3   West  20000     March\n"
          ]
        }
      ]
    },
    {
      "cell_type": "code",
      "source": [
        "df_concatenated = pd.concat([data_jan, data_feb, data_mar], axis=0).reset_index(drop=True)\n",
        "print(df_concatenated)"
      ],
      "metadata": {
        "colab": {
          "base_uri": "https://localhost:8080/"
        },
        "id": "X56_yMheHX0w",
        "outputId": "07bfbc93-adfd-47af-ece5-add129d1b198"
      },
      "execution_count": 21,
      "outputs": [
        {
          "output_type": "stream",
          "name": "stdout",
          "text": [
            "   Region  Sales     Month\n",
            "0   North  25000   January\n",
            "1   South  30000   January\n",
            "2    East  20000   January\n",
            "3    West  15000   January\n",
            "4   North  27000  February\n",
            "5   South  32000  February\n",
            "6    East  23000  February\n",
            "7    West  18000  February\n",
            "8   North  28000     March\n",
            "9   South  31000     March\n",
            "10   East  24000     March\n",
            "11   West  20000     March\n"
          ]
        }
      ]
    },
    {
      "cell_type": "markdown",
      "source": [
        "\n",
        "It is time for a coding Challenge. Please concatenate the following DataFrames through rows. As you will see, there is some of the code done, you only have to replace the “___” part of the code. Good Luck!"
      ],
      "metadata": {
        "id": "YrzcmS1aHot3"
      }
    },
    {
      "cell_type": "code",
      "source": [
        "import pandas as pd\n",
        "\n",
        "# Create the first DataFrame\n",
        "data1 = {\n",
        "    'A': [1, 2, 3],\n",
        "    'B': ['a', 'b', 'c']\n",
        "}\n",
        "df1 = pd.DataFrame(data1)\n",
        "print(df1)\n",
        "\n",
        "# Create the second DataFrame\n",
        "data2 = {\n",
        "    'A': [4, 5, 6],\n",
        "    'B': ['d', 'e', 'f']\n",
        "}\n",
        "df2 = pd.DataFrame(data2)\n",
        "print(df2)\n",
        "\n",
        "# Concatenate along rows\n",
        "concatenated_rows = pd.concat([df1, df2], axis=0, ignore_index=True) # Replace the \"___\"\n",
        "print(\"Concatenated along rows:\")\n",
        "print(concatenated_rows)"
      ],
      "metadata": {
        "colab": {
          "base_uri": "https://localhost:8080/"
        },
        "id": "1kV0jkl8Hp23",
        "outputId": "f6db2387-45a3-4e6f-e4ec-6811b2281605"
      },
      "execution_count": 22,
      "outputs": [
        {
          "output_type": "stream",
          "name": "stdout",
          "text": [
            "   A  B\n",
            "0  1  a\n",
            "1  2  b\n",
            "2  3  c\n",
            "   A  B\n",
            "0  4  d\n",
            "1  5  e\n",
            "2  6  f\n",
            "Concatenated along rows:\n",
            "   A  B\n",
            "0  1  a\n",
            "1  2  b\n",
            "2  3  c\n",
            "3  4  d\n",
            "4  5  e\n",
            "5  6  f\n"
          ]
        }
      ]
    },
    {
      "cell_type": "code",
      "source": [
        "data_1 = {\n",
        "    \"Product_ID\": [101, 102, 103, 104],\n",
        "    \"Product_Name\": [\"Laptop\", \"Tablet\", \"Smartphone\", \"Monitor\"],\n",
        "    \"Price\": [1200, 500, 800, 300]\n",
        "}\n",
        "\n",
        "data_2 = {\n",
        "    \"Product_ID\": [101, 102, 103, 105],\n",
        "    \"Category\": [\"Electronics\", \"Electronics\", \"Electronics\", \"Accessories\"],\n",
        "    \"Stock\": [50, 20, 100, 150]\n",
        "}\n",
        "\n",
        "df1 = pd.DataFrame(data_1)\n",
        "print(df1)\n",
        "\n",
        "df2 = pd.DataFrame(data_2)\n",
        "print(df2)"
      ],
      "metadata": {
        "colab": {
          "base_uri": "https://localhost:8080/"
        },
        "id": "4477OdC9IokI",
        "outputId": "22f50c5f-570f-44d6-bb7a-deb7251fbfeb"
      },
      "execution_count": 25,
      "outputs": [
        {
          "output_type": "stream",
          "name": "stdout",
          "text": [
            "   Product_ID Product_Name  Price\n",
            "0         101       Laptop   1200\n",
            "1         102       Tablet    500\n",
            "2         103   Smartphone    800\n",
            "3         104      Monitor    300\n",
            "   Product_ID     Category  Stock\n",
            "0         101  Electronics     50\n",
            "1         102  Electronics     20\n",
            "2         103  Electronics    100\n",
            "3         105  Accessories    150\n"
          ]
        }
      ]
    },
    {
      "cell_type": "code",
      "source": [
        "df_inner = pd.merge(df1, df2, on='Product_ID', how='inner')\n",
        "print(df_inner)"
      ],
      "metadata": {
        "colab": {
          "base_uri": "https://localhost:8080/"
        },
        "id": "AGNUHm9zJ0hT",
        "outputId": "56165877-35ee-40bd-9729-ce50bd276013"
      },
      "execution_count": 24,
      "outputs": [
        {
          "output_type": "stream",
          "name": "stdout",
          "text": [
            "   Product_ID Product_Name  Price     Category  Stock\n",
            "0         101       Laptop   1200  Electronics     50\n",
            "1         102       Tablet    500  Electronics     20\n",
            "2         103   Smartphone    800  Electronics    100\n"
          ]
        }
      ]
    },
    {
      "cell_type": "code",
      "source": [
        "data_1 = {\n",
        "    \"Product_ID\": [101, 102, 103, 104],\n",
        "    \"Product_Name\": [\"Laptop\", \"Tablet\", \"Smartphone\", \"Monitor\"],\n",
        "    \"Price\": [1200, 500, 800, 300]\n",
        "}\n",
        "\n",
        "data_2 = {\n",
        "    \"Product_ID\": [101, 102, 103],\n",
        "    \"Category\": [\"Electronics\", \"Electronics\", \"Accessories\"],\n",
        "    \"Stock\": [50, 20, 150]\n",
        "}\n",
        "\n",
        "df1 = pd.DataFrame(data_1)\n",
        "print(df1)\n",
        "\n",
        "df2 = pd.DataFrame(data_2)\n",
        "print(df2)"
      ],
      "metadata": {
        "colab": {
          "base_uri": "https://localhost:8080/"
        },
        "id": "RjqTGB69KHHo",
        "outputId": "16375c42-52d7-4d13-afc0-41010c1fcc4f"
      },
      "execution_count": 26,
      "outputs": [
        {
          "output_type": "stream",
          "name": "stdout",
          "text": [
            "   Product_ID Product_Name  Price\n",
            "0         101       Laptop   1200\n",
            "1         102       Tablet    500\n",
            "2         103   Smartphone    800\n",
            "3         104      Monitor    300\n",
            "   Product_ID     Category  Stock\n",
            "0         101  Electronics     50\n",
            "1         102  Electronics     20\n",
            "2         103  Accessories    150\n"
          ]
        }
      ]
    },
    {
      "cell_type": "code",
      "source": [
        "df_left = pd.merge(df1, df2, on = \"Product_ID\", how= \"left\")\n",
        "print(df_left)"
      ],
      "metadata": {
        "colab": {
          "base_uri": "https://localhost:8080/"
        },
        "id": "3VEK-IAMKRBY",
        "outputId": "43028d7c-deff-4cd1-b254-2b0a3c04d726"
      },
      "execution_count": 27,
      "outputs": [
        {
          "output_type": "stream",
          "name": "stdout",
          "text": [
            "   Product_ID Product_Name  Price     Category  Stock\n",
            "0         101       Laptop   1200  Electronics   50.0\n",
            "1         102       Tablet    500  Electronics   20.0\n",
            "2         103   Smartphone    800  Accessories  150.0\n",
            "3         104      Monitor    300          NaN    NaN\n"
          ]
        }
      ]
    },
    {
      "cell_type": "code",
      "source": [
        "data_1 = {\n",
        "    \"Product_ID\": [101, 102, 103, 104],\n",
        "    \"Product_Name\": [\"Laptop\", \"Tablet\", \"Smartphone\", \"Monitor\"],\n",
        "    \"Price\": [1200, 500, 800, 300]\n",
        "}\n",
        "\n",
        "data_2 = {\n",
        "    \"Product_ID\": [101, 102, 105],\n",
        "    \"Category\": [\"Electronics\", \"Electronics\", \"Accessories\"],\n",
        "    \"Stock\": [50, 20, 150]\n",
        "}\n",
        "\n",
        "df1 = pd.DataFrame(data_1)\n",
        "print(df1)\n",
        "\n",
        "df2 = pd.DataFrame(data_2)\n",
        "print(df2)"
      ],
      "metadata": {
        "colab": {
          "base_uri": "https://localhost:8080/"
        },
        "id": "EHplhVGrKobk",
        "outputId": "5ebd4336-077c-4fe9-ca73-e35cf7559597"
      },
      "execution_count": 28,
      "outputs": [
        {
          "output_type": "stream",
          "name": "stdout",
          "text": [
            "   Product_ID Product_Name  Price\n",
            "0         101       Laptop   1200\n",
            "1         102       Tablet    500\n",
            "2         103   Smartphone    800\n",
            "3         104      Monitor    300\n",
            "   Product_ID     Category  Stock\n",
            "0         101  Electronics     50\n",
            "1         102  Electronics     20\n",
            "2         105  Accessories    150\n"
          ]
        }
      ]
    },
    {
      "cell_type": "code",
      "source": [
        "df_right = pd.merge(df1, df2, on= \"Product_ID\", how= \"right\")\n",
        "\n",
        "print(df_right)"
      ],
      "metadata": {
        "colab": {
          "base_uri": "https://localhost:8080/"
        },
        "id": "xF8EZzejKuyj",
        "outputId": "280e14d7-0074-48c2-c7e2-4c8bbfb25d45"
      },
      "execution_count": 29,
      "outputs": [
        {
          "output_type": "stream",
          "name": "stdout",
          "text": [
            "   Product_ID Product_Name   Price     Category  Stock\n",
            "0         101       Laptop  1200.0  Electronics     50\n",
            "1         102       Tablet   500.0  Electronics     20\n",
            "2         105          NaN     NaN  Accessories    150\n"
          ]
        }
      ]
    },
    {
      "cell_type": "code",
      "source": [
        "df_outer = pd.merge(df1, df2, on= \"Product_ID\", how=\"outer\")\n",
        "print(df_outer)"
      ],
      "metadata": {
        "colab": {
          "base_uri": "https://localhost:8080/"
        },
        "id": "GE7HUZbbK_sD",
        "outputId": "15351746-e724-4232-965e-02c21564c2c0"
      },
      "execution_count": 30,
      "outputs": [
        {
          "output_type": "stream",
          "name": "stdout",
          "text": [
            "   Product_ID Product_Name   Price     Category  Stock\n",
            "0         101       Laptop  1200.0  Electronics   50.0\n",
            "1         102       Tablet   500.0  Electronics   20.0\n",
            "2         103   Smartphone   800.0          NaN    NaN\n",
            "3         104      Monitor   300.0          NaN    NaN\n",
            "4         105          NaN     NaN  Accessories  150.0\n"
          ]
        }
      ]
    },
    {
      "cell_type": "markdown",
      "source": [
        "Let’s join tables! In this case select a join that will keep all rows from the left DataFrame with matched rows from the right DataFrame. As with the previous coding challenge, some of the code is already written; you only need to replace the '___' part. Good luck!"
      ],
      "metadata": {
        "id": "FYtnbZB-LV-j"
      }
    },
    {
      "cell_type": "code",
      "source": [
        "import pandas as pd\n",
        "\n",
        "# Create the first DataFrame (left)\n",
        "data1 = {\n",
        "    'ID': [1, 2, 3, 4, 5, 6, 7],\n",
        "    'Name': ['Alice', 'Bob', 'Charlie', 'David', 'Eve', 'Frank', 'Grace']\n",
        "}\n",
        "df1 = pd.DataFrame(data1)\n",
        "\n",
        "# Create the second DataFrame (right)\n",
        "data2 = {\n",
        "    'ID': [2, 3, 5, 6, 8, 9, 10],\n",
        "    'Age': [25, 30, 22, 28, 35, 40, 45]\n",
        "}\n",
        "df2 = pd.DataFrame(data2)\n",
        "\n",
        "# Perform a left join on the 'ID' column\n",
        "merged_df = pd.merge(df1, df2, on=\"ID\", how=\"left\") # replace the \"___\"\n",
        "\n",
        "print(\"Merged DataFrame with Left Join:\")\n",
        "print(merged_df)"
      ],
      "metadata": {
        "colab": {
          "base_uri": "https://localhost:8080/"
        },
        "id": "-y975yC3LVRM",
        "outputId": "d9a193b2-3009-4884-fdfe-feec5ffa4d6a"
      },
      "execution_count": 31,
      "outputs": [
        {
          "output_type": "stream",
          "name": "stdout",
          "text": [
            "Merged DataFrame with Left Join:\n",
            "   ID     Name   Age\n",
            "0   1    Alice   NaN\n",
            "1   2      Bob  25.0\n",
            "2   3  Charlie  30.0\n",
            "3   4    David   NaN\n",
            "4   5      Eve  22.0\n",
            "5   6    Frank  28.0\n",
            "6   7    Grace   NaN\n"
          ]
        }
      ]
    },
    {
      "cell_type": "markdown",
      "source": [
        "          Name   Age Date Joined           Salary            Remarks\n",
        "0     John Doe  28.0  01/15/2020            50000      Good employee\n",
        "1     John Doe  32.0  02/20/2021            60000                N/A\n",
        "2     John Doe  45.0  03/10/2019            75000          Excellent\n",
        "3     John Doe   NaN  01/01/2020            50000      Good employee\n",
        "4     John Doe  28.0  05/25/2018  Eighty Thousand                N/A\n",
        "5     John Doe  32.0  06/15/2020            52000  Needs improvement\n",
        "6     John Doe   NaN  07/01/2019            75000                   \n",
        "7     John Doe  30.0  01/15/2020            60000                N/A\n",
        "8     John Doe  45.0  07/01/2019            75000               None\n",
        "9     John Doe  50.0  06/15/2020            52000      Good employee\n",
        "10  Jane Smith  32.0  04/25/2020            75000          Excellent\n",
        "11  Jane Smith  33.0  04/25/2020            80000          Excellent\n",
        "12  Jane Smith   NaN  03/10/2019            80000               Fair\n",
        "13  Jane Smith  36.0  03/15/2020            52000           New hire\n",
        "14  Jane Smith  36.0  02/25/2020            50000                   \n",
        "15  Jane Smith  29.0  01/01/2020            60000      Good employee\n",
        "16  Jane Smith  28.0  06/15/2020            75000                N/A\n",
        "17  Jane Smith   NaN  07/01/2019           100000                   \n",
        "18  Jack Brown  40.0  08/25/2020            85000  Needs improvement\n",
        "19  Jack Brown  41.0  09/10/2021            90000               None\n",
        "20  Jack Brown  42.0  10/02/2019            95000          Promising\n",
        "21  Jack Brown   NaN  11/11/2018            62000                   \n",
        "22  Jack Brown  55.0  12/12/2020           120000      Good employee\n",
        "23  Sam Wilson  58.0  01/15/2021           110000  Needs improvement\n",
        "24  Sam Wilson  60.0        None            88000               None\n",
        "25  Sam Wilson  30.0  06/15/2020             None          Excellent\n",
        "26  Sam Wilson   NaN  01/15/2021   Sixty Thousand                   \n",
        "27        None  45.0  07/01/2019           102000               Fair\n",
        "28        None  50.0  06/15/2020             None                   \n",
        "29        None  50.0        None            70000          Promising"
      ],
      "metadata": {
        "id": "Lc5HNQB0NbMc"
      }
    },
    {
      "cell_type": "code",
      "source": [
        "import pandas as pd\n",
        "\n",
        "data = {\n",
        "    'Name': ['John Doe'] * 10 + ['Jane Smith'] * 8 + ['Jack Brown'] * 5 + ['Sam Wilson'] * 4 + [None] * 3,\n",
        "    'Age': [28.0, 32.0, 45.0, None, 28.0, 32.0, None, 30.0, 45.0, 50.0,\n",
        "            32.0, 33.0, None, 36.0, 36.0, 29.0, 28.0, None,\n",
        "            40.0, 41.0, 42.0, None, 55.0,\n",
        "            58.0, 60.0, 30.0, None,\n",
        "            45.0, 50.0, 50.0],\n",
        "    'Date Joined': ['01/15/2020', '02/20/2021', '03/10/2019', '01/01/2020', '05/25/2018', '06/15/2020', '07/01/2019', '01/15/2020', '07/01/2019', '06/15/2020',\n",
        "                    '04/25/2020', '04/25/2020', '03/10/2019', '03/15/2020', '02/25/2020', '01/01/2020', '06/15/2020', '07/01/2019',\n",
        "                    '08/25/2020', '09/10/2021', '10/02/2019', '11/11/2018', '12/12/2020',\n",
        "                    '01/15/2021', None, '06/15/2020', '01/15/2021',\n",
        "                    '07/01/2019', '06/15/2020', None],\n",
        "    'Salary': [50000, 60000, 75000, 50000, 'Eighty Thousand', 52000, 75000, 60000, 75000, 52000,\n",
        "               75000, 80000, 80000, 52000, 50000, 60000, 75000, 100000,\n",
        "               85000, 90000, 95000, 62000, 120000,\n",
        "               110000, 88000, None, 'Sixty Thousand',\n",
        "               102000, None, 70000],\n",
        "    'Remarks': ['Good employee', 'N/A', 'Excellent', 'Good employee', 'N/A', 'Needs improvement', '', 'N/A', None, 'Good employee',\n",
        "                'Excellent', 'Excellent', 'Fair', 'New hire', '', 'Good employee', 'N/A', '',\n",
        "                'Needs improvement', None, 'Promising', '', 'Good employee',\n",
        "                'Needs improvement', None, 'Excellent', '',\n",
        "                'Fair', '', 'Promising']\n",
        "}\n",
        "\n",
        "# Erstellen des DataFrames\n",
        "df = pd.DataFrame(data)\n",
        "\n",
        "# Anzeigen des DataFrames\n",
        "print(df)\n"
      ],
      "metadata": {
        "colab": {
          "base_uri": "https://localhost:8080/"
        },
        "id": "owlEZqVtNqtl",
        "outputId": "8100f1f8-9611-419d-8d58-98343814bceb"
      },
      "execution_count": 32,
      "outputs": [
        {
          "output_type": "stream",
          "name": "stdout",
          "text": [
            "          Name   Age Date Joined           Salary            Remarks\n",
            "0     John Doe  28.0  01/15/2020            50000      Good employee\n",
            "1     John Doe  32.0  02/20/2021            60000                N/A\n",
            "2     John Doe  45.0  03/10/2019            75000          Excellent\n",
            "3     John Doe   NaN  01/01/2020            50000      Good employee\n",
            "4     John Doe  28.0  05/25/2018  Eighty Thousand                N/A\n",
            "5     John Doe  32.0  06/15/2020            52000  Needs improvement\n",
            "6     John Doe   NaN  07/01/2019            75000                   \n",
            "7     John Doe  30.0  01/15/2020            60000                N/A\n",
            "8     John Doe  45.0  07/01/2019            75000               None\n",
            "9     John Doe  50.0  06/15/2020            52000      Good employee\n",
            "10  Jane Smith  32.0  04/25/2020            75000          Excellent\n",
            "11  Jane Smith  33.0  04/25/2020            80000          Excellent\n",
            "12  Jane Smith   NaN  03/10/2019            80000               Fair\n",
            "13  Jane Smith  36.0  03/15/2020            52000           New hire\n",
            "14  Jane Smith  36.0  02/25/2020            50000                   \n",
            "15  Jane Smith  29.0  01/01/2020            60000      Good employee\n",
            "16  Jane Smith  28.0  06/15/2020            75000                N/A\n",
            "17  Jane Smith   NaN  07/01/2019           100000                   \n",
            "18  Jack Brown  40.0  08/25/2020            85000  Needs improvement\n",
            "19  Jack Brown  41.0  09/10/2021            90000               None\n",
            "20  Jack Brown  42.0  10/02/2019            95000          Promising\n",
            "21  Jack Brown   NaN  11/11/2018            62000                   \n",
            "22  Jack Brown  55.0  12/12/2020           120000      Good employee\n",
            "23  Sam Wilson  58.0  01/15/2021           110000  Needs improvement\n",
            "24  Sam Wilson  60.0        None            88000               None\n",
            "25  Sam Wilson  30.0  06/15/2020             None          Excellent\n",
            "26  Sam Wilson   NaN  01/15/2021   Sixty Thousand                   \n",
            "27        None  45.0  07/01/2019           102000               Fair\n",
            "28        None  50.0  06/15/2020             None                   \n",
            "29        None  50.0        None            70000          Promising\n"
          ]
        }
      ]
    },
    {
      "cell_type": "code",
      "source": [
        "df.head()"
      ],
      "metadata": {
        "colab": {
          "base_uri": "https://localhost:8080/",
          "height": 206
        },
        "id": "JJD_zR34Oypk",
        "outputId": "b52d161e-b46d-4f4e-c089-974b731958c1"
      },
      "execution_count": 33,
      "outputs": [
        {
          "output_type": "execute_result",
          "data": {
            "text/plain": [
              "       Name   Age Date Joined           Salary        Remarks\n",
              "0  John Doe  28.0  01/15/2020            50000  Good employee\n",
              "1  John Doe  32.0  02/20/2021            60000            N/A\n",
              "2  John Doe  45.0  03/10/2019            75000      Excellent\n",
              "3  John Doe   NaN  01/01/2020            50000  Good employee\n",
              "4  John Doe  28.0  05/25/2018  Eighty Thousand            N/A"
            ],
            "text/html": [
              "\n",
              "  <div id=\"df-bf932388-28d9-4c86-802e-92ad32ece79e\" class=\"colab-df-container\">\n",
              "    <div>\n",
              "<style scoped>\n",
              "    .dataframe tbody tr th:only-of-type {\n",
              "        vertical-align: middle;\n",
              "    }\n",
              "\n",
              "    .dataframe tbody tr th {\n",
              "        vertical-align: top;\n",
              "    }\n",
              "\n",
              "    .dataframe thead th {\n",
              "        text-align: right;\n",
              "    }\n",
              "</style>\n",
              "<table border=\"1\" class=\"dataframe\">\n",
              "  <thead>\n",
              "    <tr style=\"text-align: right;\">\n",
              "      <th></th>\n",
              "      <th>Name</th>\n",
              "      <th>Age</th>\n",
              "      <th>Date Joined</th>\n",
              "      <th>Salary</th>\n",
              "      <th>Remarks</th>\n",
              "    </tr>\n",
              "  </thead>\n",
              "  <tbody>\n",
              "    <tr>\n",
              "      <th>0</th>\n",
              "      <td>John Doe</td>\n",
              "      <td>28.0</td>\n",
              "      <td>01/15/2020</td>\n",
              "      <td>50000</td>\n",
              "      <td>Good employee</td>\n",
              "    </tr>\n",
              "    <tr>\n",
              "      <th>1</th>\n",
              "      <td>John Doe</td>\n",
              "      <td>32.0</td>\n",
              "      <td>02/20/2021</td>\n",
              "      <td>60000</td>\n",
              "      <td>N/A</td>\n",
              "    </tr>\n",
              "    <tr>\n",
              "      <th>2</th>\n",
              "      <td>John Doe</td>\n",
              "      <td>45.0</td>\n",
              "      <td>03/10/2019</td>\n",
              "      <td>75000</td>\n",
              "      <td>Excellent</td>\n",
              "    </tr>\n",
              "    <tr>\n",
              "      <th>3</th>\n",
              "      <td>John Doe</td>\n",
              "      <td>NaN</td>\n",
              "      <td>01/01/2020</td>\n",
              "      <td>50000</td>\n",
              "      <td>Good employee</td>\n",
              "    </tr>\n",
              "    <tr>\n",
              "      <th>4</th>\n",
              "      <td>John Doe</td>\n",
              "      <td>28.0</td>\n",
              "      <td>05/25/2018</td>\n",
              "      <td>Eighty Thousand</td>\n",
              "      <td>N/A</td>\n",
              "    </tr>\n",
              "  </tbody>\n",
              "</table>\n",
              "</div>\n",
              "    <div class=\"colab-df-buttons\">\n",
              "\n",
              "  <div class=\"colab-df-container\">\n",
              "    <button class=\"colab-df-convert\" onclick=\"convertToInteractive('df-bf932388-28d9-4c86-802e-92ad32ece79e')\"\n",
              "            title=\"Convert this dataframe to an interactive table.\"\n",
              "            style=\"display:none;\">\n",
              "\n",
              "  <svg xmlns=\"http://www.w3.org/2000/svg\" height=\"24px\" viewBox=\"0 -960 960 960\">\n",
              "    <path d=\"M120-120v-720h720v720H120Zm60-500h600v-160H180v160Zm220 220h160v-160H400v160Zm0 220h160v-160H400v160ZM180-400h160v-160H180v160Zm440 0h160v-160H620v160ZM180-180h160v-160H180v160Zm440 0h160v-160H620v160Z\"/>\n",
              "  </svg>\n",
              "    </button>\n",
              "\n",
              "  <style>\n",
              "    .colab-df-container {\n",
              "      display:flex;\n",
              "      gap: 12px;\n",
              "    }\n",
              "\n",
              "    .colab-df-convert {\n",
              "      background-color: #E8F0FE;\n",
              "      border: none;\n",
              "      border-radius: 50%;\n",
              "      cursor: pointer;\n",
              "      display: none;\n",
              "      fill: #1967D2;\n",
              "      height: 32px;\n",
              "      padding: 0 0 0 0;\n",
              "      width: 32px;\n",
              "    }\n",
              "\n",
              "    .colab-df-convert:hover {\n",
              "      background-color: #E2EBFA;\n",
              "      box-shadow: 0px 1px 2px rgba(60, 64, 67, 0.3), 0px 1px 3px 1px rgba(60, 64, 67, 0.15);\n",
              "      fill: #174EA6;\n",
              "    }\n",
              "\n",
              "    .colab-df-buttons div {\n",
              "      margin-bottom: 4px;\n",
              "    }\n",
              "\n",
              "    [theme=dark] .colab-df-convert {\n",
              "      background-color: #3B4455;\n",
              "      fill: #D2E3FC;\n",
              "    }\n",
              "\n",
              "    [theme=dark] .colab-df-convert:hover {\n",
              "      background-color: #434B5C;\n",
              "      box-shadow: 0px 1px 3px 1px rgba(0, 0, 0, 0.15);\n",
              "      filter: drop-shadow(0px 1px 2px rgba(0, 0, 0, 0.3));\n",
              "      fill: #FFFFFF;\n",
              "    }\n",
              "  </style>\n",
              "\n",
              "    <script>\n",
              "      const buttonEl =\n",
              "        document.querySelector('#df-bf932388-28d9-4c86-802e-92ad32ece79e button.colab-df-convert');\n",
              "      buttonEl.style.display =\n",
              "        google.colab.kernel.accessAllowed ? 'block' : 'none';\n",
              "\n",
              "      async function convertToInteractive(key) {\n",
              "        const element = document.querySelector('#df-bf932388-28d9-4c86-802e-92ad32ece79e');\n",
              "        const dataTable =\n",
              "          await google.colab.kernel.invokeFunction('convertToInteractive',\n",
              "                                                    [key], {});\n",
              "        if (!dataTable) return;\n",
              "\n",
              "        const docLinkHtml = 'Like what you see? Visit the ' +\n",
              "          '<a target=\"_blank\" href=https://colab.research.google.com/notebooks/data_table.ipynb>data table notebook</a>'\n",
              "          + ' to learn more about interactive tables.';\n",
              "        element.innerHTML = '';\n",
              "        dataTable['output_type'] = 'display_data';\n",
              "        await google.colab.output.renderOutput(dataTable, element);\n",
              "        const docLink = document.createElement('div');\n",
              "        docLink.innerHTML = docLinkHtml;\n",
              "        element.appendChild(docLink);\n",
              "      }\n",
              "    </script>\n",
              "  </div>\n",
              "\n",
              "\n",
              "<div id=\"df-0d00fc6e-bc63-46e9-84d9-b3934fe59085\">\n",
              "  <button class=\"colab-df-quickchart\" onclick=\"quickchart('df-0d00fc6e-bc63-46e9-84d9-b3934fe59085')\"\n",
              "            title=\"Suggest charts\"\n",
              "            style=\"display:none;\">\n",
              "\n",
              "<svg xmlns=\"http://www.w3.org/2000/svg\" height=\"24px\"viewBox=\"0 0 24 24\"\n",
              "     width=\"24px\">\n",
              "    <g>\n",
              "        <path d=\"M19 3H5c-1.1 0-2 .9-2 2v14c0 1.1.9 2 2 2h14c1.1 0 2-.9 2-2V5c0-1.1-.9-2-2-2zM9 17H7v-7h2v7zm4 0h-2V7h2v10zm4 0h-2v-4h2v4z\"/>\n",
              "    </g>\n",
              "</svg>\n",
              "  </button>\n",
              "\n",
              "<style>\n",
              "  .colab-df-quickchart {\n",
              "      --bg-color: #E8F0FE;\n",
              "      --fill-color: #1967D2;\n",
              "      --hover-bg-color: #E2EBFA;\n",
              "      --hover-fill-color: #174EA6;\n",
              "      --disabled-fill-color: #AAA;\n",
              "      --disabled-bg-color: #DDD;\n",
              "  }\n",
              "\n",
              "  [theme=dark] .colab-df-quickchart {\n",
              "      --bg-color: #3B4455;\n",
              "      --fill-color: #D2E3FC;\n",
              "      --hover-bg-color: #434B5C;\n",
              "      --hover-fill-color: #FFFFFF;\n",
              "      --disabled-bg-color: #3B4455;\n",
              "      --disabled-fill-color: #666;\n",
              "  }\n",
              "\n",
              "  .colab-df-quickchart {\n",
              "    background-color: var(--bg-color);\n",
              "    border: none;\n",
              "    border-radius: 50%;\n",
              "    cursor: pointer;\n",
              "    display: none;\n",
              "    fill: var(--fill-color);\n",
              "    height: 32px;\n",
              "    padding: 0;\n",
              "    width: 32px;\n",
              "  }\n",
              "\n",
              "  .colab-df-quickchart:hover {\n",
              "    background-color: var(--hover-bg-color);\n",
              "    box-shadow: 0 1px 2px rgba(60, 64, 67, 0.3), 0 1px 3px 1px rgba(60, 64, 67, 0.15);\n",
              "    fill: var(--button-hover-fill-color);\n",
              "  }\n",
              "\n",
              "  .colab-df-quickchart-complete:disabled,\n",
              "  .colab-df-quickchart-complete:disabled:hover {\n",
              "    background-color: var(--disabled-bg-color);\n",
              "    fill: var(--disabled-fill-color);\n",
              "    box-shadow: none;\n",
              "  }\n",
              "\n",
              "  .colab-df-spinner {\n",
              "    border: 2px solid var(--fill-color);\n",
              "    border-color: transparent;\n",
              "    border-bottom-color: var(--fill-color);\n",
              "    animation:\n",
              "      spin 1s steps(1) infinite;\n",
              "  }\n",
              "\n",
              "  @keyframes spin {\n",
              "    0% {\n",
              "      border-color: transparent;\n",
              "      border-bottom-color: var(--fill-color);\n",
              "      border-left-color: var(--fill-color);\n",
              "    }\n",
              "    20% {\n",
              "      border-color: transparent;\n",
              "      border-left-color: var(--fill-color);\n",
              "      border-top-color: var(--fill-color);\n",
              "    }\n",
              "    30% {\n",
              "      border-color: transparent;\n",
              "      border-left-color: var(--fill-color);\n",
              "      border-top-color: var(--fill-color);\n",
              "      border-right-color: var(--fill-color);\n",
              "    }\n",
              "    40% {\n",
              "      border-color: transparent;\n",
              "      border-right-color: var(--fill-color);\n",
              "      border-top-color: var(--fill-color);\n",
              "    }\n",
              "    60% {\n",
              "      border-color: transparent;\n",
              "      border-right-color: var(--fill-color);\n",
              "    }\n",
              "    80% {\n",
              "      border-color: transparent;\n",
              "      border-right-color: var(--fill-color);\n",
              "      border-bottom-color: var(--fill-color);\n",
              "    }\n",
              "    90% {\n",
              "      border-color: transparent;\n",
              "      border-bottom-color: var(--fill-color);\n",
              "    }\n",
              "  }\n",
              "</style>\n",
              "\n",
              "  <script>\n",
              "    async function quickchart(key) {\n",
              "      const quickchartButtonEl =\n",
              "        document.querySelector('#' + key + ' button');\n",
              "      quickchartButtonEl.disabled = true;  // To prevent multiple clicks.\n",
              "      quickchartButtonEl.classList.add('colab-df-spinner');\n",
              "      try {\n",
              "        const charts = await google.colab.kernel.invokeFunction(\n",
              "            'suggestCharts', [key], {});\n",
              "      } catch (error) {\n",
              "        console.error('Error during call to suggestCharts:', error);\n",
              "      }\n",
              "      quickchartButtonEl.classList.remove('colab-df-spinner');\n",
              "      quickchartButtonEl.classList.add('colab-df-quickchart-complete');\n",
              "    }\n",
              "    (() => {\n",
              "      let quickchartButtonEl =\n",
              "        document.querySelector('#df-0d00fc6e-bc63-46e9-84d9-b3934fe59085 button');\n",
              "      quickchartButtonEl.style.display =\n",
              "        google.colab.kernel.accessAllowed ? 'block' : 'none';\n",
              "    })();\n",
              "  </script>\n",
              "</div>\n",
              "\n",
              "    </div>\n",
              "  </div>\n"
            ],
            "application/vnd.google.colaboratory.intrinsic+json": {
              "type": "dataframe",
              "variable_name": "df",
              "summary": "{\n  \"name\": \"df\",\n  \"rows\": 30,\n  \"fields\": [\n    {\n      \"column\": \"Name\",\n      \"properties\": {\n        \"dtype\": \"category\",\n        \"num_unique_values\": 4,\n        \"samples\": [\n          \"Jane Smith\",\n          \"Sam Wilson\",\n          \"John Doe\"\n        ],\n        \"semantic_type\": \"\",\n        \"description\": \"\"\n      }\n    },\n    {\n      \"column\": \"Age\",\n      \"properties\": {\n        \"dtype\": \"number\",\n        \"std\": 10.116620705193686,\n        \"min\": 28.0,\n        \"max\": 60.0,\n        \"num_unique_values\": 14,\n        \"samples\": [\n          41.0,\n          55.0,\n          28.0\n        ],\n        \"semantic_type\": \"\",\n        \"description\": \"\"\n      }\n    },\n    {\n      \"column\": \"Date Joined\",\n      \"properties\": {\n        \"dtype\": \"object\",\n        \"num_unique_values\": 16,\n        \"samples\": [\n          \"01/15/2020\",\n          \"02/20/2021\",\n          \"06/15/2020\"\n        ],\n        \"semantic_type\": \"\",\n        \"description\": \"\"\n      }\n    },\n    {\n      \"column\": \"Salary\",\n      \"properties\": {\n        \"dtype\": \"string\",\n        \"num_unique_values\": 17,\n        \"samples\": [\n          50000,\n          60000,\n          80000\n        ],\n        \"semantic_type\": \"\",\n        \"description\": \"\"\n      }\n    },\n    {\n      \"column\": \"Remarks\",\n      \"properties\": {\n        \"dtype\": \"category\",\n        \"num_unique_values\": 8,\n        \"samples\": [\n          \"N/A\",\n          \"Fair\",\n          \"Good employee\"\n        ],\n        \"semantic_type\": \"\",\n        \"description\": \"\"\n      }\n    }\n  ]\n}"
            }
          },
          "metadata": {},
          "execution_count": 33
        }
      ]
    },
    {
      "cell_type": "code",
      "source": [
        "df.shape"
      ],
      "metadata": {
        "colab": {
          "base_uri": "https://localhost:8080/"
        },
        "id": "Q9Cc1hQDO5PN",
        "outputId": "cbc9148b-b8a9-4a4a-8ca3-6ebee0a502b2"
      },
      "execution_count": 34,
      "outputs": [
        {
          "output_type": "execute_result",
          "data": {
            "text/plain": [
              "(30, 5)"
            ]
          },
          "metadata": {},
          "execution_count": 34
        }
      ]
    },
    {
      "cell_type": "code",
      "source": [
        "df.dtypes"
      ],
      "metadata": {
        "colab": {
          "base_uri": "https://localhost:8080/",
          "height": 241
        },
        "id": "tyVkLx7uPJb0",
        "outputId": "e2fa996a-d8a3-4f6d-d42d-10c7cee05a45"
      },
      "execution_count": 35,
      "outputs": [
        {
          "output_type": "execute_result",
          "data": {
            "text/plain": [
              "Name            object\n",
              "Age            float64\n",
              "Date Joined     object\n",
              "Salary          object\n",
              "Remarks         object\n",
              "dtype: object"
            ],
            "text/html": [
              "<div>\n",
              "<style scoped>\n",
              "    .dataframe tbody tr th:only-of-type {\n",
              "        vertical-align: middle;\n",
              "    }\n",
              "\n",
              "    .dataframe tbody tr th {\n",
              "        vertical-align: top;\n",
              "    }\n",
              "\n",
              "    .dataframe thead th {\n",
              "        text-align: right;\n",
              "    }\n",
              "</style>\n",
              "<table border=\"1\" class=\"dataframe\">\n",
              "  <thead>\n",
              "    <tr style=\"text-align: right;\">\n",
              "      <th></th>\n",
              "      <th>0</th>\n",
              "    </tr>\n",
              "  </thead>\n",
              "  <tbody>\n",
              "    <tr>\n",
              "      <th>Name</th>\n",
              "      <td>object</td>\n",
              "    </tr>\n",
              "    <tr>\n",
              "      <th>Age</th>\n",
              "      <td>float64</td>\n",
              "    </tr>\n",
              "    <tr>\n",
              "      <th>Date Joined</th>\n",
              "      <td>object</td>\n",
              "    </tr>\n",
              "    <tr>\n",
              "      <th>Salary</th>\n",
              "      <td>object</td>\n",
              "    </tr>\n",
              "    <tr>\n",
              "      <th>Remarks</th>\n",
              "      <td>object</td>\n",
              "    </tr>\n",
              "  </tbody>\n",
              "</table>\n",
              "</div><br><label><b>dtype:</b> object</label>"
            ]
          },
          "metadata": {},
          "execution_count": 35
        }
      ]
    },
    {
      "cell_type": "code",
      "source": [
        "df.isnull().sum()\n"
      ],
      "metadata": {
        "colab": {
          "base_uri": "https://localhost:8080/",
          "height": 241
        },
        "id": "zGBGyLACPYpL",
        "outputId": "24e0d0ca-903f-411a-a85f-bad9dce26548"
      },
      "execution_count": 36,
      "outputs": [
        {
          "output_type": "execute_result",
          "data": {
            "text/plain": [
              "Name           3\n",
              "Age            6\n",
              "Date Joined    2\n",
              "Salary         2\n",
              "Remarks        3\n",
              "dtype: int64"
            ],
            "text/html": [
              "<div>\n",
              "<style scoped>\n",
              "    .dataframe tbody tr th:only-of-type {\n",
              "        vertical-align: middle;\n",
              "    }\n",
              "\n",
              "    .dataframe tbody tr th {\n",
              "        vertical-align: top;\n",
              "    }\n",
              "\n",
              "    .dataframe thead th {\n",
              "        text-align: right;\n",
              "    }\n",
              "</style>\n",
              "<table border=\"1\" class=\"dataframe\">\n",
              "  <thead>\n",
              "    <tr style=\"text-align: right;\">\n",
              "      <th></th>\n",
              "      <th>0</th>\n",
              "    </tr>\n",
              "  </thead>\n",
              "  <tbody>\n",
              "    <tr>\n",
              "      <th>Name</th>\n",
              "      <td>3</td>\n",
              "    </tr>\n",
              "    <tr>\n",
              "      <th>Age</th>\n",
              "      <td>6</td>\n",
              "    </tr>\n",
              "    <tr>\n",
              "      <th>Date Joined</th>\n",
              "      <td>2</td>\n",
              "    </tr>\n",
              "    <tr>\n",
              "      <th>Salary</th>\n",
              "      <td>2</td>\n",
              "    </tr>\n",
              "    <tr>\n",
              "      <th>Remarks</th>\n",
              "      <td>3</td>\n",
              "    </tr>\n",
              "  </tbody>\n",
              "</table>\n",
              "</div><br><label><b>dtype:</b> int64</label>"
            ]
          },
          "metadata": {},
          "execution_count": 36
        }
      ]
    },
    {
      "cell_type": "code",
      "source": [
        "df.duplicated().sum()"
      ],
      "metadata": {
        "colab": {
          "base_uri": "https://localhost:8080/"
        },
        "id": "6HelyCXqPzak",
        "outputId": "9882bfdf-b7b0-44e3-d774-e6618dc14220"
      },
      "execution_count": 37,
      "outputs": [
        {
          "output_type": "execute_result",
          "data": {
            "text/plain": [
              "0"
            ]
          },
          "metadata": {},
          "execution_count": 37
        }
      ]
    },
    {
      "cell_type": "code",
      "source": [
        "df['Salary'].unique()"
      ],
      "metadata": {
        "colab": {
          "base_uri": "https://localhost:8080/"
        },
        "id": "jNLBKDymP14L",
        "outputId": "b5964c29-bf03-4768-fb75-cd353cce4962"
      },
      "execution_count": 38,
      "outputs": [
        {
          "output_type": "execute_result",
          "data": {
            "text/plain": [
              "array([50000, 60000, 75000, 'Eighty Thousand', 52000, 80000, 100000,\n",
              "       85000, 90000, 95000, 62000, 120000, 110000, 88000, None,\n",
              "       'Sixty Thousand', 102000, 70000], dtype=object)"
            ]
          },
          "metadata": {},
          "execution_count": 38
        }
      ]
    },
    {
      "cell_type": "markdown",
      "source": [
        "💪\n",
        "It is time for some Data Assessment. Now you now, some of the code is already written; you only need to replace the '___' part. Good luck!\n",
        "Check the first rows of the DataFrame\n",
        "Check the number of rows and columns in the DataFrame\n",
        "Check the data types of each column\n",
        "Check the number of missing values in the DataFrame\n",
        "Check how many duplicated rows are in the DataFrame\n",
        "Check inconsistencies in the unique values of  City Column\n",
        ""
      ],
      "metadata": {
        "id": "IkzQg525QAxq"
      }
    },
    {
      "cell_type": "code",
      "source": [
        "import pandas as pd\n",
        "import numpy as np\n",
        "\n",
        "# Create a sample DataFrame with intentional issues\n",
        "\n",
        "data = {\n",
        "    'ID': [1, 2, 3, 4, 2, 5, 6, np.nan, 3, 4],\n",
        "    'Name': ['Alice', 'Bob', 'Charlie', 'David', 'Bob', 'Eve', 'Frank', None, 'Charlie', 'David'],\n",
        "    'Age': [25, 30, 22, 28, 30, 40, 35, 28, 'unknown', 28],\n",
        "    'City': ['New York', 'los angeles', 'chicago', 'Houston', 'Los Angeles', 'chiCaGo', 'Chicago', 'Miami', 'chicago', 'Houston']\n",
        "}\n",
        "\n",
        "df = pd.DataFrame(data)\n",
        "\n",
        "# Check the first rows of the DataFrame\n",
        "\n",
        "print(df.head(1))  # Replace the \"___\"\n",
        "\n",
        "# Check the number of rows and columns in the DataFrame\n",
        "\n",
        "print('\\nShape of the DataFrame:')\n",
        "print(df.shape)  # Replace the \"___\"\n",
        "\n",
        "# Check the data types of each column\n",
        "\n",
        "print('\\nData Types of Each Column:')\n",
        "print(df.dtypes)  # Replace the \"___\"\n",
        "\n",
        "# Check the number of missing values in the DataFrame\n",
        "\n",
        "print('\\nMissing Values in the DataFrame:')\n",
        "print(df.isnull().sum())  # Replace the \"___\"\n",
        "\n",
        "# Check how many duplicated rows are in the DataFrame\n",
        "\n",
        "print('\\nChecking Duplicate Rows:')\n",
        "print(df.duplicated().sum())  # Replace the \"___\"\n",
        "\n",
        "# Check inconsistencies in the unique values of  City Column\n",
        "\n",
        "print('\\nUnique Values of the City Column:')\n",
        "print(df['City'].unique())  # Replace the \"___\"\n"
      ],
      "metadata": {
        "colab": {
          "base_uri": "https://localhost:8080/"
        },
        "id": "3QI8DLsoQBMM",
        "outputId": "0f64626a-c47c-4810-8ead-62dd0334781c"
      },
      "execution_count": 42,
      "outputs": [
        {
          "output_type": "stream",
          "name": "stdout",
          "text": [
            "    ID   Name Age      City\n",
            "0  1.0  Alice  25  New York\n",
            "\n",
            "Shape of the DataFrame:\n",
            "(10, 4)\n",
            "\n",
            "Data Types of Each Column:\n",
            "ID      float64\n",
            "Name     object\n",
            "Age      object\n",
            "City     object\n",
            "dtype: object\n",
            "\n",
            "Missing Values in the DataFrame:\n",
            "ID      1\n",
            "Name    1\n",
            "Age     0\n",
            "City    0\n",
            "dtype: int64\n",
            "\n",
            "Checking Duplicate Rows:\n",
            "1\n",
            "\n",
            "Unique Values of the City Column:\n",
            "['New York' 'los angeles' 'chicago' 'Houston' 'Los Angeles' 'chiCaGo'\n",
            " 'Chicago' 'Miami']\n"
          ]
        }
      ]
    },
    {
      "cell_type": "markdown",
      "source": [
        "This challenge is for you to practice handling missing values. Having seen the criteria that should guide you in removing null values at the row or column level, implement the method in Python with a configuration that allows for the elimination of null values while losing the least amount of records. As always, replace the “___”. Good Luck!"
      ],
      "metadata": {
        "id": "TOaC1Z7gVxA7"
      }
    },
    {
      "cell_type": "code",
      "source": [
        "\n",
        "import pandas as pd\n",
        "import numpy as np\n",
        "\n",
        "# Sample dataset\n",
        "data = {\n",
        "    'Age': [25, np.nan, 35, 45, np.nan, 50],\n",
        "    'Salary': [50000, 60000, np.nan, 80000, 90000, np.nan],\n",
        "    'City': ['New York', 'Los Angeles', 'New York', np.nan, 'San Francisco', 'Chicago']\n",
        "}\n",
        "\n",
        "df = pd.DataFrame(data)\n",
        "\n",
        "# Display the dataset\n",
        "print(\"Original Data:\\n\", df)\n",
        "\n",
        "# Task 1: Fill missing numeric values with the mean of the column\n",
        "df['Age'].fillna(df[\"Age\"].mean(), inplace=True)\n",
        "df['Salary'].fillna(df[\"Salary\"].mean(), inplace=True)\n",
        "\n",
        "# Task 2: Fill missing categorical values with the mode (most frequent value)\n",
        "df['City'].fillna(df['City'].mode()[0], inplace=True)\n",
        "\n",
        "print(\"\\nData after filling missing values:\\n\", df)"
      ],
      "metadata": {
        "colab": {
          "base_uri": "https://localhost:8080/"
        },
        "id": "6wXb7u3eVxjF",
        "outputId": "8845bd46-56b7-4b71-9c74-1d8b6661c47e"
      },
      "execution_count": 43,
      "outputs": [
        {
          "output_type": "stream",
          "name": "stdout",
          "text": [
            "Original Data:\n",
            "     Age   Salary           City\n",
            "0  25.0  50000.0       New York\n",
            "1   NaN  60000.0    Los Angeles\n",
            "2  35.0      NaN       New York\n",
            "3  45.0  80000.0            NaN\n",
            "4   NaN  90000.0  San Francisco\n",
            "5  50.0      NaN        Chicago\n",
            "\n",
            "Data after filling missing values:\n",
            "      Age   Salary           City\n",
            "0  25.00  50000.0       New York\n",
            "1  38.75  60000.0    Los Angeles\n",
            "2  35.00  70000.0       New York\n",
            "3  45.00  80000.0       New York\n",
            "4  38.75  90000.0  San Francisco\n",
            "5  50.00  70000.0        Chicago\n"
          ]
        },
        {
          "output_type": "stream",
          "name": "stderr",
          "text": [
            "<ipython-input-43-91436a10cad3>:17: FutureWarning: A value is trying to be set on a copy of a DataFrame or Series through chained assignment using an inplace method.\n",
            "The behavior will change in pandas 3.0. This inplace method will never work because the intermediate object on which we are setting values always behaves as a copy.\n",
            "\n",
            "For example, when doing 'df[col].method(value, inplace=True)', try using 'df.method({col: value}, inplace=True)' or df[col] = df[col].method(value) instead, to perform the operation inplace on the original object.\n",
            "\n",
            "\n",
            "  df['Age'].fillna(df[\"Age\"].mean(), inplace=True)\n",
            "<ipython-input-43-91436a10cad3>:18: FutureWarning: A value is trying to be set on a copy of a DataFrame or Series through chained assignment using an inplace method.\n",
            "The behavior will change in pandas 3.0. This inplace method will never work because the intermediate object on which we are setting values always behaves as a copy.\n",
            "\n",
            "For example, when doing 'df[col].method(value, inplace=True)', try using 'df.method({col: value}, inplace=True)' or df[col] = df[col].method(value) instead, to perform the operation inplace on the original object.\n",
            "\n",
            "\n",
            "  df['Salary'].fillna(df[\"Salary\"].mean(), inplace=True)\n",
            "<ipython-input-43-91436a10cad3>:21: FutureWarning: A value is trying to be set on a copy of a DataFrame or Series through chained assignment using an inplace method.\n",
            "The behavior will change in pandas 3.0. This inplace method will never work because the intermediate object on which we are setting values always behaves as a copy.\n",
            "\n",
            "For example, when doing 'df[col].method(value, inplace=True)', try using 'df.method({col: value}, inplace=True)' or df[col] = df[col].method(value) instead, to perform the operation inplace on the original object.\n",
            "\n",
            "\n",
            "  df['City'].fillna(df['City'].mode()[0], inplace=True)\n"
          ]
        }
      ]
    },
    {
      "cell_type": "markdown",
      "source": [
        "\n",
        "It is now time for a code challenge. Drop the duplicate rows considering the “Name” and “City” columns. Replace the “___”. Good Luck!"
      ],
      "metadata": {
        "id": "VZuuWeoAXaI-"
      }
    },
    {
      "cell_type": "code",
      "source": [
        "import pandas as pd\n",
        "\n",
        "data = {\n",
        "    'Name': ['Alice', 'Alice', 'Alice', 'Alice', 'Bob', 'Charlie', 'David'],\n",
        "    'Age': [30, 31, 32, 33, 25, 40, 35],\n",
        "    'City': ['New York', 'New York', 'New York', 'New York', 'Los Angeles', 'Chicago', 'Houston'],\n",
        "    'Salary': [70000, 72000, 71000, 73000, 80000, 120000, 90000]\n",
        "}\n",
        "\n",
        "df = pd.DataFrame(data)\n",
        "\n",
        "# Drop duplicates based on 'Name' and 'City'\n",
        "\n",
        "df_dropped_duplicates = df.drop_duplicates(subset=[\"Name\", \"City\"])  # Replace the \"___\"\n",
        "\n",
        "print(\"\\nDataFrame after dropping duplicates based on 'Name' and 'City':\")\n",
        "print(df_dropped_duplicates)\n"
      ],
      "metadata": {
        "colab": {
          "base_uri": "https://localhost:8080/"
        },
        "id": "e2D15wmoXanm",
        "outputId": "e35e6596-6cbf-45ba-d927-fa392eb6bc86"
      },
      "execution_count": 44,
      "outputs": [
        {
          "output_type": "stream",
          "name": "stdout",
          "text": [
            "\n",
            "DataFrame after dropping duplicates based on 'Name' and 'City':\n",
            "      Name  Age         City  Salary\n",
            "0    Alice   30     New York   70000\n",
            "4      Bob   25  Los Angeles   80000\n",
            "5  Charlie   40      Chicago  120000\n",
            "6    David   35      Houston   90000\n"
          ]
        }
      ]
    },
    {
      "cell_type": "markdown",
      "source": [
        "Let’s say we want to calculate the average weight, height and speed of the members of the following DataFrame. Replace the “___” in order to be able to do that."
      ],
      "metadata": {
        "id": "I2fTgjkBX1hl"
      }
    },
    {
      "cell_type": "code",
      "source": [
        "import pandas as pd\n",
        "\n",
        "data = {\n",
        "    'Name': ['Alice', 'Bob', 'Charlie', 'David'],\n",
        "    'Weight': ['55.5', '70.2', '66.3', '80.4'],\n",
        "    'Height': [1.65, 1.75, 1.80, 1.70],\n",
        "    'Speed': [10.5, 12.0, 11.3, 9.8]\n",
        "}\n",
        "\n",
        "df = pd.DataFrame(data)\n",
        "\n",
        "df['Weight'] = df['Weight'].astype(float)\n",
        "print(df['Speed'].mean())\n",
        "print(df['Weight'].mean())\n",
        "print(df['Height'].mean())"
      ],
      "metadata": {
        "colab": {
          "base_uri": "https://localhost:8080/"
        },
        "id": "_HfCumShX17O",
        "outputId": "597167a2-3a6a-403f-a7ff-ff6f2bc24bce"
      },
      "execution_count": 47,
      "outputs": [
        {
          "output_type": "stream",
          "name": "stdout",
          "text": [
            "10.899999999999999\n",
            "68.1\n",
            "1.725\n"
          ]
        }
      ]
    },
    {
      "cell_type": "markdown",
      "source": [
        "Now is your turn to clean the Data. Replace the “___” in order to get your data clean! Good Luck!"
      ],
      "metadata": {
        "id": "Z2OqJSkDYfsU"
      }
    },
    {
      "cell_type": "code",
      "source": [
        "import pandas as pd\n",
        "\n",
        "data = {'Product': ['   Apple    ', 'banana', '  ORANGE  ', 'kiwifruit '\n",
        "        , 'grapes'], 'Sales': ['100$', ' 200$ ', '  150$ ', '120$  ',\n",
        "        '  90$ '], 'Place': ['North America - USA',\n",
        "        'South America - Brazil', 'Europe - France', 'Asia - Japan',\n",
        "        'Australia - Australia']}\n",
        "\n",
        "sales_df = pd.DataFrame(data)\n",
        "\n",
        "# Correct product capitalization\n",
        "\n",
        "sales_df['Product'] = sales_df['Product'].str.capitalize()\n",
        "\n",
        "# Stripp the whitespaces of all the columns\n",
        "\n",
        "sales_df['Product'] = sales_df['Product'].str.strip()\n",
        "sales_df['Sales'] = sales_df['Sales'].str.strip()\n",
        "sales_df['Place'] = sales_df['Place'].str.strip()\n",
        "\n",
        "# Splitting 'Place' into new columns: 'Region' and 'Country'\n",
        "\n",
        "sales_df[['Region', 'Country']] = sales_df['Place'].str.split('-', n=1,\n",
        "        expand=True)\n",
        "\n",
        "# Replacing characters (e.g., replacing \"$\" with \" \")\n",
        "\n",
        "sales_df['Sales'] = sales_df['Sales'].str.replace('\\$', \" \", regex=True)\n",
        "\n",
        "print('\\nSales DataFrame after String Cleaning Operations:')\n",
        "print(sales_df)"
      ],
      "metadata": {
        "colab": {
          "base_uri": "https://localhost:8080/"
        },
        "id": "tK49gTWDYgUW",
        "outputId": "1e4b0704-cc65-4d9f-cbf7-c89ef195cf00"
      },
      "execution_count": 49,
      "outputs": [
        {
          "output_type": "stream",
          "name": "stdout",
          "text": [
            "\n",
            "Sales DataFrame after String Cleaning Operations:\n",
            "     Product Sales                   Place     Region           Country\n",
            "0      apple  100$     North America - USA      North     America - USA\n",
            "1     Banana  200$  South America - Brazil      South  America - Brazil\n",
            "2     orange  150$         Europe - France     Europe          - France\n",
            "3  Kiwifruit  120$            Asia - Japan       Asia           - Japan\n",
            "4     Grapes   90$   Australia - Australia  Australia       - Australia\n"
          ]
        }
      ]
    },
    {
      "cell_type": "markdown",
      "source": [
        "Coding Challenge time. Imagine your boss give you the following DataFrame and ask you to calculate the total sales by region and the mean sales by region. Replace the “___”. Good Luck!"
      ],
      "metadata": {
        "id": "AApeEGf-abS1"
      }
    },
    {
      "cell_type": "code",
      "source": [
        "import pandas as pd\n",
        "import numpy as np\n",
        "\n",
        "data = {\n",
        "    'product': ['Apple', 'Banana', 'Orange', 'Grapes', 'Apple', 'Banana', 'Orange', 'Grapes', 'Apple', 'Banana', 'Orange', 'Grapes', 'Apple', 'Banana', 'Orange', 'Grapes'],\n",
        "    'region': ['North America', 'North America', 'North America', 'North America', 'South America', 'South America', 'South America', 'South America', 'Europe', 'Europe', 'Europe', 'Europe', 'Asia', 'Asia', 'Asia', 'Asia'],\n",
        "    'sales': [100, 150, 200, 120, 80, 90, 130, 110, 140, 160, 120, 130, 180, 190, 210, 220]\n",
        "}\n",
        "\n",
        "sales_df = pd.DataFrame(data)\n",
        "\n",
        "# Group by region and calculate the total sales\n",
        "# Replace the \"___\" below\n",
        "print(sales_df.groupby('region')['sales'].sum().reset_index())\n",
        "\n",
        "# Calculate the mean sales by region\n",
        "# Replace the \"___\" below\n",
        "print(sales_df.groupby('region')['sales'].mean().reset_index())\n"
      ],
      "metadata": {
        "colab": {
          "base_uri": "https://localhost:8080/"
        },
        "id": "GZa2c49ZadFW",
        "outputId": "74283d5d-8526-4793-a92d-e4d9259cb5ce"
      },
      "execution_count": 50,
      "outputs": [
        {
          "output_type": "stream",
          "name": "stdout",
          "text": [
            "          region  sales\n",
            "0           Asia    800\n",
            "1         Europe    550\n",
            "2  North America    570\n",
            "3  South America    410\n",
            "          region  sales\n",
            "0           Asia  200.0\n",
            "1         Europe  137.5\n",
            "2  North America  142.5\n",
            "3  South America  102.5\n"
          ]
        }
      ]
    },
    {
      "cell_type": "markdown",
      "source": [
        "This is the final coding challenge of the sprint. I know you can do it! Create a pivot table for total sales by region and another one with the mean sales by region. Good Luck!"
      ],
      "metadata": {
        "id": "WIwu8s-mbBBW"
      }
    },
    {
      "cell_type": "code",
      "source": [
        "import pandas as pd\n",
        "\n",
        "data = {'product': [\n",
        "    'Apple',\n",
        "    'Banana',\n",
        "    'Orange',\n",
        "    'Grapes',\n",
        "    'Apple',\n",
        "    'Banana',\n",
        "    'Orange',\n",
        "    'Grapes',\n",
        "    'Apple',\n",
        "    'Banana',\n",
        "    'Orange',\n",
        "    'Grapes',\n",
        "    'Apple',\n",
        "    'Banana',\n",
        "    'Orange',\n",
        "    ], 'region': [\n",
        "    'North America',\n",
        "    'North America',\n",
        "    'North America',\n",
        "    'North America',\n",
        "    'South America',\n",
        "    'South America',\n",
        "    'South America',\n",
        "    'South America',\n",
        "    'Europe',\n",
        "    'Europe',\n",
        "    'Europe',\n",
        "    'Europe',\n",
        "    'Asia',\n",
        "    'Asia',\n",
        "    'Asia',\n",
        "    ], 'sales': [\n",
        "    100,\n",
        "    150,\n",
        "    200,\n",
        "    120,\n",
        "    80,\n",
        "    90,\n",
        "    130,\n",
        "    110,\n",
        "    140,\n",
        "    160,\n",
        "    120,\n",
        "    130,\n",
        "    180,\n",
        "    190,\n",
        "    210,\n",
        "    ]}\n",
        "sales_df = pd.DataFrame(data)\n",
        "\n",
        "# Create a pivot table for total sales by region\n",
        "\n",
        "total_sales_pivot = sales_df.pivot_table(values='sales', index='region',\n",
        "        aggfunc='sum').reset_index()  # Replace the \"___\"\n",
        "                                      # Replace the \"___\"\n",
        "                                      # Replace the \"___\"\n",
        "print('Total Sales Pivot', total_sales_pivot)\n",
        "\n",
        "# Create a pivot table for mean sales by region\n",
        "\n",
        "mean_sales_pivot = sales_df.pivot_table(values='sales', index='region',\n",
        "        aggfunc='mean').reset_index()  # Replace the \"___\"\n",
        "                                      # Replace the \"___\"\n",
        "                                      # Replace the \"___\"\n",
        "print('\\n Mean Sales Pivot', mean_sales_pivot)\n"
      ],
      "metadata": {
        "colab": {
          "base_uri": "https://localhost:8080/"
        },
        "id": "scOG01z9bDZe",
        "outputId": "e30db59a-3188-4482-b411-a5970b94464d"
      },
      "execution_count": 51,
      "outputs": [
        {
          "output_type": "stream",
          "name": "stdout",
          "text": [
            "Total Sales Pivot           region  sales\n",
            "0           Asia    580\n",
            "1         Europe    550\n",
            "2  North America    570\n",
            "3  South America    410\n",
            "\n",
            " Mean Sales Pivot           region       sales\n",
            "0           Asia  193.333333\n",
            "1         Europe  137.500000\n",
            "2  North America  142.500000\n",
            "3  South America  102.500000\n"
          ]
        }
      ]
    }
  ]
}