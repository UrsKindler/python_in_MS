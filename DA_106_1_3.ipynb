{
  "nbformat": 4,
  "nbformat_minor": 0,
  "metadata": {
    "colab": {
      "provenance": [],
      "authorship_tag": "ABX9TyOuPqIS+fqWj1NoR3PsJz0y",
      "include_colab_link": true
    },
    "kernelspec": {
      "name": "python3",
      "display_name": "Python 3"
    },
    "language_info": {
      "name": "python"
    }
  },
  "cells": [
    {
      "cell_type": "markdown",
      "metadata": {
        "id": "view-in-github",
        "colab_type": "text"
      },
      "source": [
        "<a href=\"https://colab.research.google.com/github/UrsKindler/python_in_MS/blob/main/DA_106_1_3.ipynb\" target=\"_parent\"><img src=\"https://colab.research.google.com/assets/colab-badge.svg\" alt=\"Open In Colab\"/></a>"
      ]
    },
    {
      "cell_type": "markdown",
      "source": [
        "Try it yourself:\n",
        "Create a pandas DataFrame containing information about the five highest mountains in the world. Follow these steps:\n",
        "Use the data dictionary provided, that contains the following columns:\n",
        "Mountain: The name of the mountain.\n",
        "Height_m: The height of the mountain in meters.\n",
        "Location: The location (countries or regions) of the mountain.\n",
        "First_Ascent: The year of the first recorded ascent.\n",
        "Create a pandas DataFrame.\n",
        "Print the following pandas attributes:\n",
        "dtypes: Check the data types of the columns.\n",
        "columns: Display the column names in the DataFrame.\n",
        "shape: Print the number of rows and columns in the DataFrame."
      ],
      "metadata": {
        "id": "PzF4qTJ9xozg"
      }
    },
    {
      "cell_type": "code",
      "source": [
        "import pandas as pd\n",
        "\n",
        "data = {\n",
        "    'Mountain': ['Mount Everest', 'K2', 'Kangchenjunga', 'Lhotse',\n",
        "                 'Makalu'],\n",
        "    'Height_m': [8848, 8611, 8586, 8516, 8485],\n",
        "    'Location': ['Nepal/China', 'Pakistan/China', 'Nepal/India',\n",
        "                 'Nepal/China', 'Nepal/China'],\n",
        "    'First_Ascent': [1953, 1954, 1955, 1956, 1955],\n",
        "    }\n",
        "\n",
        "df = pd.DataFrame(data)\n",
        "print(df)\n",
        "\n",
        "print(df.dtypes)\n",
        "print(df.columns)\n",
        "print(df.shape)"
      ],
      "metadata": {
        "id": "8NsDXNwrxq_m"
      },
      "execution_count": 1,
      "outputs": []
    },
    {
      "cell_type": "code",
      "source": [
        "import seaborn as sns\n",
        "\n",
        "df = sns.load_dataset(\"tips\")"
      ],
      "metadata": {
        "id": "bldfg-TM0kyN"
      },
      "execution_count": 2,
      "outputs": []
    },
    {
      "cell_type": "code",
      "source": [
        "from sklearn.datasets import load_iris\n",
        "import pandas as pd\n",
        "\n",
        "iris = load_iris()\n",
        "df = pd.DataFrame(iris.data, columns=iris.feature_names)"
      ],
      "metadata": {
        "id": "opa0r_MZ0ng1"
      },
      "execution_count": 3,
      "outputs": []
    },
    {
      "cell_type": "code",
      "source": [
        "import pandas as pd\n",
        "\n",
        "# Sample DataFrame\n",
        "data = {\n",
        "    \"Destination\": [\"Paris\", \"Tokyo\", \"New York\", \"London\", \"Dubai\"],\n",
        "    \"Rating\": [4.8, 4.7, 4.5, 4.6, 4.7],\n",
        "    \"Visitors (millions)\": [19.1, 13.3, 10.2, 20.4, 16.3]\n",
        "}\n",
        "\n",
        "df = pd.DataFrame(data)\n",
        "\n",
        "# Display the first 3 rows\n",
        "print(df.head(3))"
      ],
      "metadata": {
        "colab": {
          "base_uri": "https://localhost:8080/"
        },
        "id": "Na5ZL9z303ut",
        "outputId": "e1e055aa-05bc-43d0-8816-4d5928e50eab"
      },
      "execution_count": 4,
      "outputs": [
        {
          "output_type": "stream",
          "name": "stdout",
          "text": [
            "  Destination  Rating  Visitors (millions)\n",
            "0       Paris     4.8                 19.1\n",
            "1       Tokyo     4.7                 13.3\n",
            "2    New York     4.5                 10.2\n"
          ]
        }
      ]
    },
    {
      "cell_type": "code",
      "source": [
        "import pandas as pd\n",
        "\n",
        "# Sample DataFrame\n",
        "data = {\n",
        "    \"Destination\": [\"Paris\", \"Tokyo\", \"New York\", \"London\", \"Dubai\"],\n",
        "    \"Rating\": [4.8, 4.7, 4.5, 4.6, 4.7],\n",
        "    \"Visitors (millions)\": [19.1, 13.3, 10.2, 20.4, 16.3]\n",
        "}\n",
        "\n",
        "df = pd.DataFrame(data)\n",
        "\n",
        "# Display the last 2 rows\n",
        "print(df.tail(2))"
      ],
      "metadata": {
        "colab": {
          "base_uri": "https://localhost:8080/"
        },
        "id": "7IpLaNQU06kV",
        "outputId": "f848c14e-9236-4eb5-d99c-d21c1e3b96b7"
      },
      "execution_count": 5,
      "outputs": [
        {
          "output_type": "stream",
          "name": "stdout",
          "text": [
            "  Destination  Rating  Visitors (millions)\n",
            "3      London     4.6                 20.4\n",
            "4       Dubai     4.7                 16.3\n"
          ]
        }
      ]
    },
    {
      "cell_type": "code",
      "source": [
        "import pandas as pd\n",
        "\n",
        "# Sample DataFrame\n",
        "data = {\n",
        "    \"Destination\": [\"Paris\", \"Tokyo\", \"New York\", \"London\", \"Dubai\"],\n",
        "    \"Rating\": [4.8, 4.7, 4.5, 4.6, 4.7],\n",
        "    \"Visitors (millions)\": [19.1, 13.3, 10.2, 20.4, 16.3]\n",
        "}\n",
        "\n",
        "df = pd.DataFrame(data)\n",
        "\n",
        "df.info()"
      ],
      "metadata": {
        "colab": {
          "base_uri": "https://localhost:8080/"
        },
        "id": "qEi9lImY09-N",
        "outputId": "54bb0bd2-fd85-4e26-e52d-d7420ba21d34"
      },
      "execution_count": 6,
      "outputs": [
        {
          "output_type": "stream",
          "name": "stdout",
          "text": [
            "<class 'pandas.core.frame.DataFrame'>\n",
            "RangeIndex: 5 entries, 0 to 4\n",
            "Data columns (total 3 columns):\n",
            " #   Column               Non-Null Count  Dtype  \n",
            "---  ------               --------------  -----  \n",
            " 0   Destination          5 non-null      object \n",
            " 1   Rating               5 non-null      float64\n",
            " 2   Visitors (millions)  5 non-null      float64\n",
            "dtypes: float64(2), object(1)\n",
            "memory usage: 248.0+ bytes\n"
          ]
        }
      ]
    },
    {
      "cell_type": "markdown",
      "source": [
        "Try it yourself:\n",
        "Let’s now analyze a pandas DataFrame containing information about the five highest mountains in Europe.\n",
        "Use .head(2) to check the first two rows of the DataFrame.\n",
        "Use .tail(2) to check the last two rows of the DataFrame.\n",
        "Use .info() to display a summary of the DataFrame, including column names, non-null counts, and data types."
      ],
      "metadata": {
        "id": "6-WfnTEW1lCb"
      }
    },
    {
      "cell_type": "code",
      "source": [
        "import pandas as pd\n",
        "\n",
        "data = {\n",
        "    'Mountain': ['Mount Elbrus', 'Dykh-Tau', 'Shkhara', 'Koshtan-Tau',\n",
        "                 'Pushkin Peak'],\n",
        "    'Height_m': [5642, 5205, 5193, 5151, 5100],\n",
        "    'Location': ['Russia', 'Russia', 'Russia/Georgia', 'Russia',\n",
        "                 'Russia'],\n",
        "    'First_Ascent': [1874, 1888, 1888, 1889, 1891],\n",
        "    }\n",
        "\n",
        "df = pd.DataFrame(data)\n",
        "\n",
        "#Write your code here\n",
        "print(df.head(2))\n",
        "print(df.tail(2))\n",
        "df.info()"
      ],
      "metadata": {
        "id": "nkp6w23W1m71"
      },
      "execution_count": 7,
      "outputs": []
    },
    {
      "cell_type": "markdown",
      "source": [
        "Try it yourself:\n",
        "We will now work with the five highest mountains in the Americas.\n",
        "We provide you with a pandas dictionary containing the mountain names and their heights to create a pandas Series.\n",
        "The keys in the dictionary represent the mountain names.\n",
        "The values represent the heights in meters.\n",
        "Name the Series Highest Mountains in Americas.\n",
        "Print the following:\n",
        "All the values of the Series.\n",
        "All the indices of the Series."
      ],
      "metadata": {
        "id": "DSUMUawB2Pk1"
      }
    },
    {
      "cell_type": "code",
      "source": [
        "import pandas as pd\n",
        "\n",
        "data = {\n",
        "    \"Aconcagua\": 6960,\n",
        "    \"Ojos del Salado\": 6893,\n",
        "    \"Monte Pissis\": 6793,\n",
        "    \"Huascarán\": 6768,\n",
        "    \"Cerro Bonete\": 6759\n",
        "}\n",
        "\n",
        "# Step 1: Create a pandas Series with meaningful indices\n",
        "series = pd.Series(data, name=\"Highest Mountains in Americas\")\n",
        "# Step 2: Assign a name to the Series\n",
        "series.name = \"Highest Mountains in Americas\"\n",
        "# Step 3: Print all the values of the Series.\n",
        "print(series.values)\n",
        "# Step 4: Print all the indices of the Series\n",
        "print(series.index)"
      ],
      "metadata": {
        "id": "yIIbxT9f2QZ8"
      },
      "execution_count": 8,
      "outputs": []
    },
    {
      "cell_type": "code",
      "source": [
        "import numpy as np"
      ],
      "metadata": {
        "id": "RpYePezp2ty8"
      },
      "execution_count": 9,
      "outputs": []
    },
    {
      "cell_type": "markdown",
      "source": [
        "Try it yourself:\n",
        "Let’s check the five highest mountains in Africa now. However, the dataset includes duplicate entries for some mountains, resulting in 7 or 8 rows. Your job is to analyze the dataset and complete the following tasks:\n",
        "Create a pandas DataFrame using the provided data.\n",
        "Use .value_counts() to count how many times each mountain appears in the dataset.\n",
        "Use .nunique() to find the number of unique mountain names in the dataset.\n",
        "Use .unique() to list the names of all unique mountains.\n",
        ""
      ],
      "metadata": {
        "id": "ys8NuCBl2-5s"
      }
    },
    {
      "cell_type": "code",
      "source": [
        "import pandas as pd\n",
        "\n",
        "data = {\n",
        "    \"Mountain\": [\n",
        "        \"Mount Kilimanjaro\", \"Mount Kenya\", \"Mount Stanley\",\n",
        "        \"Mount Kenya\", \"Mount Speke\", \"Mount Baker\",\n",
        "        \"Mount Kilimanjaro\", \"Mount Stanley\"\n",
        "    ],\n",
        "    \"Height_m\": [\n",
        "        5895, 5199, 5109,\n",
        "        5199, 4890, 4843,\n",
        "        5895, 5109\n",
        "    ],\n",
        "    \"Location\": [\n",
        "        \"Tanzania\", \"Kenya\", \"Uganda/Congo\",\n",
        "        \"Kenya\", \"Uganda\", \"Uganda\",\n",
        "        \"Tanzania\", \"Uganda/Congo\"\n",
        "    ]\n",
        "}\n",
        "\n",
        "# Step 1: Create a pandas DataFrame\n",
        "df = pd.DataFrame(data)\n",
        "# Step 2: Use .value_counts() to count duplicates\n",
        "print(df[\"Mountain\"].value_counts())\n",
        "# Step 3: Use .nunique() to find the number of unique mountains\n",
        "print(df[\"Mountain\"].nunique())\n",
        "# Step 4: Use .unique() to list all unique mountain names\n",
        "print(df[\"Mountain\"].unique())\n",
        "\n"
      ],
      "metadata": {
        "id": "JclVbnkf2_r0"
      },
      "execution_count": null,
      "outputs": []
    }
  ]
}