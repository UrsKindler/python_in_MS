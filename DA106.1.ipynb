{
  "nbformat": 4,
  "nbformat_minor": 0,
  "metadata": {
    "colab": {
      "provenance": [],
      "authorship_tag": "ABX9TyMaTus4j/8N7FAamUorY2bL",
      "include_colab_link": true
    },
    "kernelspec": {
      "name": "python3",
      "display_name": "Python 3"
    },
    "language_info": {
      "name": "python"
    }
  },
  "cells": [
    {
      "cell_type": "markdown",
      "metadata": {
        "id": "view-in-github",
        "colab_type": "text"
      },
      "source": [
        "<a href=\"https://colab.research.google.com/github/UrsKindler/python_in_MS/blob/main/DA106.1.ipynb\" target=\"_parent\"><img src=\"https://colab.research.google.com/assets/colab-badge.svg\" alt=\"Open In Colab\"/></a>"
      ]
    },
    {
      "cell_type": "markdown",
      "source": [
        "**bolt**\n",
        "*\\nitalic*\n",
        "#header1#\n",
        "##header2#\n",
        "- boletpoints 1\n",
        "* boletpoints 2\n",
        "* [Portfolio Dr. Urs Kindler](https://urskindler.github.io/Portfolio/)\n"
      ],
      "metadata": {
        "id": "E2YIq2PAs6oC"
      }
    },
    {
      "cell_type": "code",
      "execution_count": 3,
      "metadata": {
        "id": "-YGc5L2_sq79"
      },
      "outputs": [],
      "source": [
        "import pandas as pd\n",
        "import numpy as np\n",
        "import matplotlib.pyplot as plt\n",
        "import seaborn as sns\n",
        "#import scikit-learn as skl\n",
        "import requests as rq\n",
        "import datetime as dt"
      ]
    },
    {
      "cell_type": "code",
      "source": [
        "dog_name = \"Puppy\"\n",
        "age = 10"
      ],
      "metadata": {
        "id": "jINxT0H8uoEB"
      },
      "execution_count": 4,
      "outputs": []
    },
    {
      "cell_type": "code",
      "source": [
        "age = 11"
      ],
      "metadata": {
        "id": "Fd7ekX0Guz1w"
      },
      "execution_count": 5,
      "outputs": []
    },
    {
      "cell_type": "code",
      "source": [
        "age = age + 1"
      ],
      "metadata": {
        "id": "R_45vPX5vIFK"
      },
      "execution_count": 6,
      "outputs": []
    },
    {
      "cell_type": "code",
      "source": [
        "x = 10\n",
        "\n",
        "x = x + 5 #15\n",
        "x += 5  # Same as x = x + 5\n",
        "\n",
        "x = x - 2 #13\n",
        "x -= 2  # Same as x = x - 2\n",
        "\n",
        "x = x * 5 # 65\n",
        "x *= 5  # Same as x = x * 5\n",
        "\n",
        "x = x / 2 #32.5\n",
        "x /= 2  # Same as x = x / 2"
      ],
      "metadata": {
        "id": "AJSk2qGvvVm3"
      },
      "execution_count": 7,
      "outputs": []
    },
    {
      "cell_type": "code",
      "source": [
        "\n",
        "print(x) #100.0?"
      ],
      "metadata": {
        "colab": {
          "base_uri": "https://localhost:8080/"
        },
        "id": "FwxQSrN2vcGA",
        "outputId": "55d5d448-c83e-4232-e8b2-42523128ea55"
      },
      "execution_count": 9,
      "outputs": [
        {
          "output_type": "stream",
          "name": "stdout",
          "text": [
            "100.0\n"
          ]
        }
      ]
    },
    {
      "cell_type": "markdown",
      "source": [
        "solution 1: x = 10,\n",
        "x = x + 5 #15\n",
        "x += 5  # Same as x = x + 5\n",
        "\n",
        "x = x - 2 #13\n",
        "x -= 2  # Same as x = x - 2\n",
        "\n",
        "x = x * 5 # 65\n",
        "x *= 5  # Same as x = x * 5\n",
        "\n",
        "x = x / 2 #32.5\n",
        "x /= 2  # Same as x = x / 2\n",
        "\n",
        "OR:\n",
        "x = 10\n",
        "\n",
        "x = x + 5 #15\n",
        "x += 5  #20\n",
        "\n",
        "x = x - 2 #18\n",
        "x -= 2  #16\n",
        "\n",
        "x = x * 5 #80\n",
        "x *= 5  #400\n",
        "\n",
        "x = x / 2 #200\n",
        "x /= 2  #100\n",
        "\n",
        "**print(x) #100.0**"
      ],
      "metadata": {
        "id": "mA3K_nd0v0_f"
      }
    },
    {
      "cell_type": "markdown",
      "source": [
        "**Try it yourself:**\n",
        "Define variables to store the following details about Puppy:\n",
        "His name: \"Puppy\"\n",
        "His age: 10\n",
        "His breed: \"poodle\"\n",
        "His fur color: \"black\"."
      ],
      "metadata": {
        "id": "HwSqMB1IwYPA"
      }
    },
    {
      "cell_type": "code",
      "source": [
        "dog_name = \"Puppy\"\n",
        "dog_ge = 10\n",
        "dog_breed = \"poodle\"\n",
        "dog_fur_color = \"black\""
      ],
      "metadata": {
        "id": "FgceXGmIwb-4"
      },
      "execution_count": 10,
      "outputs": []
    },
    {
      "cell_type": "code",
      "source": [
        "print(\"Puppy likes ham!\")"
      ],
      "metadata": {
        "colab": {
          "base_uri": "https://localhost:8080/"
        },
        "id": "yMtfo9UBxCY3",
        "outputId": "5edd6f0d-bf46-4edb-d246-ab49ed8057c9"
      },
      "execution_count": 11,
      "outputs": [
        {
          "output_type": "stream",
          "name": "stdout",
          "text": [
            "Puppy likes ham!\n"
          ]
        }
      ]
    },
    {
      "cell_type": "code",
      "source": [
        "age = 10\n",
        "\n",
        "print(age)\n",
        "print(10)"
      ],
      "metadata": {
        "colab": {
          "base_uri": "https://localhost:8080/"
        },
        "id": "MNFBiE_RxHhg",
        "outputId": "a60cf783-545a-425e-a8b8-b849371c9fdc"
      },
      "execution_count": 12,
      "outputs": [
        {
          "output_type": "stream",
          "name": "stdout",
          "text": [
            "10\n",
            "10\n"
          ]
        }
      ]
    },
    {
      "cell_type": "code",
      "source": [
        "age = 10\n",
        "\n",
        "print(\"Puppy likes ham, and he is\", age, \"years old!\")\n",
        "print(\"Puppy likes ham, and he is\", 10, \"years old!\")"
      ],
      "metadata": {
        "colab": {
          "base_uri": "https://localhost:8080/"
        },
        "id": "rnPNXLtLxLWo",
        "outputId": "4e4ec812-e594-483c-d5dd-ca79aabba634"
      },
      "execution_count": 13,
      "outputs": [
        {
          "output_type": "stream",
          "name": "stdout",
          "text": [
            "Puppy likes ham, and he is 10 years old!\n",
            "Puppy likes ham, and he is 10 years old!\n"
          ]
        }
      ]
    },
    {
      "cell_type": "code",
      "source": [
        "age = 10\n",
        "\n",
        "print(\"Next year, Puppy will be eating ham for\", age + 1, \"years!\")\n",
        "print(\"Next year, Puppy will be eating ham for\", 10 + 1, \"years!\")"
      ],
      "metadata": {
        "colab": {
          "base_uri": "https://localhost:8080/"
        },
        "id": "Sx7UUiFDxO8H",
        "outputId": "1637a58b-050e-4d50-9c8a-1e4e2a8655a7"
      },
      "execution_count": 14,
      "outputs": [
        {
          "output_type": "stream",
          "name": "stdout",
          "text": [
            "Next year, Puppy will be eating ham for 11 years!\n",
            "Next year, Puppy will be eating ham for 11 years!\n"
          ]
        }
      ]
    },
    {
      "cell_type": "code",
      "source": [
        "print(\"Puppy likes ham\", \"prosciutto\", \"cheese\", \"and any meat\",\n",
        "      sep=\", \", end=\"!\")"
      ],
      "metadata": {
        "colab": {
          "base_uri": "https://localhost:8080/"
        },
        "id": "Y78nV-I8xiSI",
        "outputId": "6349237a-56c2-488d-9850-a685352e9cd2"
      },
      "execution_count": 15,
      "outputs": [
        {
          "output_type": "stream",
          "name": "stdout",
          "text": [
            "Puppy likes ham, prosciutto, cheese, and any meat!"
          ]
        }
      ]
    },
    {
      "cell_type": "code",
      "source": [
        "print(\"The dog\\'s name is \\\"Puppy\\\".\\nHe loves eating:\\n\\t- Ham\\n\\t- Chicken\\n\\t- Beef\\nAnd when he\\'s done, he barks, \\\"That was delicious!\\\"\")\n"
      ],
      "metadata": {
        "colab": {
          "base_uri": "https://localhost:8080/"
        },
        "id": "ZBos6z8lxmMQ",
        "outputId": "676391e7-8395-42e4-83d0-d6f07a8a4181"
      },
      "execution_count": 16,
      "outputs": [
        {
          "output_type": "stream",
          "name": "stdout",
          "text": [
            "The dog's name is \"Puppy\".\n",
            "He loves eating:\n",
            "\t- Ham\n",
            "\t- Chicken\n",
            "\t- Beef\n",
            "And when he's done, he barks, \"That was delicious!\"\n"
          ]
        }
      ]
    },
    {
      "cell_type": "markdown",
      "source": [
        "Try it yourself:\n",
        "Use the print function to display the following phrases on separate lines:\n",
        "Puppy's name: \"Puppy\".\n",
        "Puppy's favorite toy: \"ball\".\n",
        "Puppy's favorite activity: \"fetching\".\n",
        "Use a single print() statement with newline characters (\\n) for formatting."
      ],
      "metadata": {
        "id": "c449m3I-yLH4"
      }
    },
    {
      "cell_type": "code",
      "source": [
        "print(\"Puppy\\'s name: \\\"Puppy\\\" \\nPuppy\\'s favorite toy: \\\"ball\\\" \\nPuppy\\'s favorite activity: \\\"fetching\\\"\")"
      ],
      "metadata": {
        "colab": {
          "base_uri": "https://localhost:8080/"
        },
        "id": "odZ9yt5syQ7Y",
        "outputId": "b975a1d4-60cd-493e-8fd1-08e7f95e8364"
      },
      "execution_count": 23,
      "outputs": [
        {
          "output_type": "stream",
          "name": "stdout",
          "text": [
            "Puppy's name: \"Puppy\" \n",
            "Puppy's favorite toy: \"ball\" \n",
            "Puppy's favorite activity: \"fetching\"\n"
          ]
        }
      ]
    },
    {
      "cell_type": "code",
      "source": [
        "age = 10\n",
        "temperature = 38.3\n",
        "dog_name = \"Puppy\"\n",
        "is_alive = True\n",
        "\n",
        "print(type(age))\n",
        "print(type(temperature))\n",
        "print(type(dog_name))\n",
        "print(type(is_alive))"
      ],
      "metadata": {
        "colab": {
          "base_uri": "https://localhost:8080/"
        },
        "id": "8kfCLLfaz5jA",
        "outputId": "d8e7558b-dd8d-4f38-c002-f1ea5bdbb311"
      },
      "execution_count": 24,
      "outputs": [
        {
          "output_type": "stream",
          "name": "stdout",
          "text": [
            "<class 'int'>\n",
            "<class 'float'>\n",
            "<class 'str'>\n",
            "<class 'bool'>\n"
          ]
        }
      ]
    },
    {
      "cell_type": "code",
      "source": [
        "x = 10  # Integer\n",
        "y = 20.2  # Float\n",
        "\n",
        "z = x + y\n",
        "print(z)\n",
        "print(type(z))"
      ],
      "metadata": {
        "colab": {
          "base_uri": "https://localhost:8080/"
        },
        "id": "TL-B1Vgi2TxQ",
        "outputId": "f0ae8b7b-b399-49fb-ce75-bbeccace4886"
      },
      "execution_count": 25,
      "outputs": [
        {
          "output_type": "stream",
          "name": "stdout",
          "text": [
            "30.2\n",
            "<class 'float'>\n"
          ]
        }
      ]
    },
    {
      "cell_type": "code",
      "source": [
        "x = 10  # Integer\n",
        "y = True  # Boolean\n",
        "\n",
        "z = x + y\n",
        "print(z)"
      ],
      "metadata": {
        "colab": {
          "base_uri": "https://localhost:8080/"
        },
        "id": "8onq_TiC2Yef",
        "outputId": "8ebe5299-6a7f-48ed-8642-0abd3cf9b641"
      },
      "execution_count": 26,
      "outputs": [
        {
          "output_type": "stream",
          "name": "stdout",
          "text": [
            "11\n"
          ]
        }
      ]
    },
    {
      "cell_type": "markdown",
      "source": [
        "Try it yourself:\n",
        "Create variables for the following:\n",
        "Puppy's age (int): 10\n",
        "Puppy's weight (float): 20.5 kilograms,\n",
        "Puppy's friendly status (bool): True.\n",
        "Print the data type of each variable using the type() function."
      ],
      "metadata": {
        "id": "iTyoRKYW2idm"
      }
    },
    {
      "cell_type": "code",
      "source": [
        "Puppy_age = 10\n",
        "Puppy_weight = 20.5\n",
        "Puppy_friendly_status = True\n",
        "\n",
        "print(type(Puppy_age))\n",
        "print(type(Puppy_weight))\n",
        "print(type(Puppy_friendly_status))"
      ],
      "metadata": {
        "colab": {
          "base_uri": "https://localhost:8080/"
        },
        "id": "NU3916jc2jTo",
        "outputId": "c5cc37bd-989f-408f-ac04-fa2cfccfaae4"
      },
      "execution_count": 29,
      "outputs": [
        {
          "output_type": "stream",
          "name": "stdout",
          "text": [
            "<class 'int'>\n",
            "<class 'float'>\n",
            "<class 'bool'>\n"
          ]
        }
      ]
    },
    {
      "cell_type": "code",
      "source": [
        "# Single quotes\n",
        "dog_name = 'Puppy'\n",
        "\n",
        "# Double quotes\n",
        "dog_breed = \"Poodle\"\n",
        "\n",
        "# Triple quotes for multi-line strings\n",
        "dog_description = \"\"\"Puppy is a playful dog.\n",
        "He loves to fetch balls and run in the park.\"\"\"\n",
        "\n",
        "print(dog_name, dog_breed, dog_description)"
      ],
      "metadata": {
        "colab": {
          "base_uri": "https://localhost:8080/"
        },
        "id": "qeNnprye3jYY",
        "outputId": "3a6bae7b-54bb-4193-bf4c-4b665201aed1"
      },
      "execution_count": 30,
      "outputs": [
        {
          "output_type": "stream",
          "name": "stdout",
          "text": [
            "Puppy Poodle Puppy is a playful dog.\n",
            "He loves to fetch balls and run in the park.\n"
          ]
        }
      ]
    },
    {
      "cell_type": "code",
      "source": [
        "name = \"Puppy\"\n",
        "activity = \"fetches the ball\"\n",
        "\n",
        "sentence = name + \" \" + activity\n",
        "\n",
        "print(sentence)  # Output: Puppy fetches the ball"
      ],
      "metadata": {
        "colab": {
          "base_uri": "https://localhost:8080/"
        },
        "id": "UCXRIust4CDQ",
        "outputId": "5a8f2eda-3b12-4164-f90d-b43f60848833"
      },
      "execution_count": 31,
      "outputs": [
        {
          "output_type": "stream",
          "name": "stdout",
          "text": [
            "Puppy fetches the ball\n"
          ]
        }
      ]
    }
  ]
}