{
  "nbformat": 4,
  "nbformat_minor": 0,
  "metadata": {
    "colab": {
      "provenance": [],
      "authorship_tag": "ABX9TyMDgr5C9pFNLSd/seLEndww",
      "include_colab_link": true
    },
    "kernelspec": {
      "name": "python3",
      "display_name": "Python 3"
    },
    "language_info": {
      "name": "python"
    }
  },
  "cells": [
    {
      "cell_type": "markdown",
      "metadata": {
        "id": "view-in-github",
        "colab_type": "text"
      },
      "source": [
        "<a href=\"https://colab.research.google.com/github/UrsKindler/python_in_MS/blob/main/Untitled1_ipynbDA_106_1_2.ipynb\" target=\"_parent\"><img src=\"https://colab.research.google.com/assets/colab-badge.svg\" alt=\"Open In Colab\"/></a>"
      ]
    },
    {
      "cell_type": "markdown",
      "source": [
        "**bolt**\n",
        "*\\nitalic*\n",
        "#header1#\n",
        "##header2#\n",
        "- boletpoints 1\n",
        "* boletpoints 2\n",
        "* [Portfolio Dr. Urs Kindler](https://urskindler.github.io/Portfolio/)\n"
      ],
      "metadata": {
        "id": "E2YIq2PAs6oC"
      }
    },
    {
      "cell_type": "code",
      "execution_count": 9,
      "metadata": {
        "id": "-YGc5L2_sq79"
      },
      "outputs": [],
      "source": [
        "import pandas as pd\n",
        "import numpy as np\n",
        "import matplotlib.pyplot as plt\n",
        "import seaborn as sns\n",
        "#import scikit-learn as skl\n",
        "import requests as rq\n",
        "import datetime as dt"
      ]
    },
    {
      "cell_type": "code",
      "source": [
        "dog_name = \"Puppy\"\n",
        "age = 10"
      ],
      "metadata": {
        "id": "jINxT0H8uoEB"
      },
      "execution_count": 10,
      "outputs": []
    },
    {
      "cell_type": "code",
      "source": [
        "age = 11"
      ],
      "metadata": {
        "id": "Fd7ekX0Guz1w"
      },
      "execution_count": 11,
      "outputs": []
    },
    {
      "cell_type": "code",
      "source": [
        "age = age + 1"
      ],
      "metadata": {
        "id": "R_45vPX5vIFK"
      },
      "execution_count": 12,
      "outputs": []
    },
    {
      "cell_type": "code",
      "source": [
        "x = 10\n",
        "\n",
        "x = x + 5 #15\n",
        "x += 5  # Same as x = x + 5\n",
        "\n",
        "x = x - 2 #13\n",
        "x -= 2  # Same as x = x - 2\n",
        "\n",
        "x = x * 5 # 65\n",
        "x *= 5  # Same as x = x * 5\n",
        "\n",
        "x = x / 2 #32.5\n",
        "x /= 2  # Same as x = x / 2"
      ],
      "metadata": {
        "id": "AJSk2qGvvVm3"
      },
      "execution_count": 13,
      "outputs": []
    },
    {
      "cell_type": "code",
      "source": [
        "\n",
        "print(x) #100.0?"
      ],
      "metadata": {
        "colab": {
          "base_uri": "https://localhost:8080/"
        },
        "id": "FwxQSrN2vcGA",
        "outputId": "dd745e3e-93f1-48ba-eeb7-641f3938fce6"
      },
      "execution_count": 14,
      "outputs": [
        {
          "output_type": "stream",
          "name": "stdout",
          "text": [
            "100.0\n"
          ]
        }
      ]
    },
    {
      "cell_type": "markdown",
      "source": [
        "solution 1: x = 10,\n",
        "x = x + 5 #15\n",
        "x += 5  # Same as x = x + 5\n",
        "\n",
        "x = x - 2 #13\n",
        "x -= 2  # Same as x = x - 2\n",
        "\n",
        "x = x * 5 # 65\n",
        "x *= 5  # Same as x = x * 5\n",
        "\n",
        "x = x / 2 #32.5\n",
        "x /= 2  # Same as x = x / 2\n",
        "\n",
        "OR:\n",
        "x = 10\n",
        "\n",
        "x = x + 5 #15\n",
        "x += 5  #20\n",
        "\n",
        "x = x - 2 #18\n",
        "x -= 2  #16\n",
        "\n",
        "x = x * 5 #80\n",
        "x *= 5  #400\n",
        "\n",
        "x = x / 2 #200\n",
        "x /= 2  #100\n",
        "\n",
        "**print(x) #100.0**"
      ],
      "metadata": {
        "id": "mA3K_nd0v0_f"
      }
    },
    {
      "cell_type": "markdown",
      "source": [
        "**Try it yourself:**\n",
        "Define variables to store the following details about Puppy:\n",
        "His name: \"Puppy\"\n",
        "His age: 10\n",
        "His breed: \"poodle\"\n",
        "His fur color: \"black\"."
      ],
      "metadata": {
        "id": "HwSqMB1IwYPA"
      }
    },
    {
      "cell_type": "code",
      "source": [
        "dog_name = \"Puppy\"\n",
        "dog_ge = 10\n",
        "dog_breed = \"poodle\"\n",
        "dog_fur_color = \"black\""
      ],
      "metadata": {
        "id": "FgceXGmIwb-4"
      },
      "execution_count": 15,
      "outputs": []
    },
    {
      "cell_type": "code",
      "source": [
        "print(\"Puppy likes ham!\")"
      ],
      "metadata": {
        "colab": {
          "base_uri": "https://localhost:8080/"
        },
        "id": "yMtfo9UBxCY3",
        "outputId": "3973d128-2211-43e5-d4b0-bcf4848fcee6"
      },
      "execution_count": 16,
      "outputs": [
        {
          "output_type": "stream",
          "name": "stdout",
          "text": [
            "Puppy likes ham!\n"
          ]
        }
      ]
    },
    {
      "cell_type": "code",
      "source": [
        "age = 10\n",
        "\n",
        "print(age)\n",
        "print(10)"
      ],
      "metadata": {
        "colab": {
          "base_uri": "https://localhost:8080/"
        },
        "id": "MNFBiE_RxHhg",
        "outputId": "3893ba68-dfd0-491f-bc6c-5789ace5e6f9"
      },
      "execution_count": 17,
      "outputs": [
        {
          "output_type": "stream",
          "name": "stdout",
          "text": [
            "10\n",
            "10\n"
          ]
        }
      ]
    },
    {
      "cell_type": "code",
      "source": [
        "age = 10\n",
        "\n",
        "print(\"Puppy likes ham, and he is\", age, \"years old!\")\n",
        "print(\"Puppy likes ham, and he is\", 10, \"years old!\")"
      ],
      "metadata": {
        "colab": {
          "base_uri": "https://localhost:8080/"
        },
        "id": "rnPNXLtLxLWo",
        "outputId": "b4fe2f1e-7604-4b70-9794-4c84565162a6"
      },
      "execution_count": 18,
      "outputs": [
        {
          "output_type": "stream",
          "name": "stdout",
          "text": [
            "Puppy likes ham, and he is 10 years old!\n",
            "Puppy likes ham, and he is 10 years old!\n"
          ]
        }
      ]
    },
    {
      "cell_type": "code",
      "source": [
        "age = 10\n",
        "\n",
        "print(\"Next year, Puppy will be eating ham for\", age + 1, \"years!\")\n",
        "print(\"Next year, Puppy will be eating ham for\", 10 + 1, \"years!\")"
      ],
      "metadata": {
        "colab": {
          "base_uri": "https://localhost:8080/"
        },
        "id": "Sx7UUiFDxO8H",
        "outputId": "00027ac6-af66-414f-a435-3d8d8541a3ba"
      },
      "execution_count": 19,
      "outputs": [
        {
          "output_type": "stream",
          "name": "stdout",
          "text": [
            "Next year, Puppy will be eating ham for 11 years!\n",
            "Next year, Puppy will be eating ham for 11 years!\n"
          ]
        }
      ]
    },
    {
      "cell_type": "code",
      "source": [
        "print(\"Puppy likes ham\", \"prosciutto\", \"cheese\", \"and any meat\",\n",
        "      sep=\", \", end=\"!\")"
      ],
      "metadata": {
        "colab": {
          "base_uri": "https://localhost:8080/"
        },
        "id": "Y78nV-I8xiSI",
        "outputId": "843fa06c-1879-4602-9d5f-004ac108b7a6"
      },
      "execution_count": 20,
      "outputs": [
        {
          "output_type": "stream",
          "name": "stdout",
          "text": [
            "Puppy likes ham, prosciutto, cheese, and any meat!"
          ]
        }
      ]
    },
    {
      "cell_type": "code",
      "source": [
        "print(\"The dog\\'s name is \\\"Puppy\\\".\\nHe loves eating:\\n\\t- Ham\\n\\t- Chicken\\n\\t- Beef\\nAnd when he\\'s done, he barks, \\\"That was delicious!\\\"\")\n"
      ],
      "metadata": {
        "colab": {
          "base_uri": "https://localhost:8080/"
        },
        "id": "ZBos6z8lxmMQ",
        "outputId": "1a7aa161-c2b4-48f1-e83b-591aae44e6c9"
      },
      "execution_count": 21,
      "outputs": [
        {
          "output_type": "stream",
          "name": "stdout",
          "text": [
            "The dog's name is \"Puppy\".\n",
            "He loves eating:\n",
            "\t- Ham\n",
            "\t- Chicken\n",
            "\t- Beef\n",
            "And when he's done, he barks, \"That was delicious!\"\n"
          ]
        }
      ]
    },
    {
      "cell_type": "markdown",
      "source": [
        "Try it yourself:\n",
        "Use the print function to display the following phrases on separate lines:\n",
        "Puppy's name: \"Puppy\".\n",
        "Puppy's favorite toy: \"ball\".\n",
        "Puppy's favorite activity: \"fetching\".\n",
        "Use a single print() statement with newline characters (\\n) for formatting."
      ],
      "metadata": {
        "id": "c449m3I-yLH4"
      }
    },
    {
      "cell_type": "code",
      "source": [
        "print(\"Puppy\\'s name: \\\"Puppy\\\" \\nPuppy\\'s favorite toy: \\\"ball\\\" \\nPuppy\\'s favorite activity: \\\"fetching\\\"\")"
      ],
      "metadata": {
        "colab": {
          "base_uri": "https://localhost:8080/"
        },
        "id": "odZ9yt5syQ7Y",
        "outputId": "d5fc3751-797b-48e4-b85f-9d54191c02e8"
      },
      "execution_count": 22,
      "outputs": [
        {
          "output_type": "stream",
          "name": "stdout",
          "text": [
            "Puppy's name: \"Puppy\" \n",
            "Puppy's favorite toy: \"ball\" \n",
            "Puppy's favorite activity: \"fetching\"\n"
          ]
        }
      ]
    },
    {
      "cell_type": "code",
      "source": [
        "age = 10\n",
        "temperature = 38.3\n",
        "dog_name = \"Puppy\"\n",
        "is_alive = True\n",
        "\n",
        "print(type(age))\n",
        "print(type(temperature))\n",
        "print(type(dog_name))\n",
        "print(type(is_alive))"
      ],
      "metadata": {
        "colab": {
          "base_uri": "https://localhost:8080/"
        },
        "id": "8kfCLLfaz5jA",
        "outputId": "daa9b7c4-edbc-4c71-87de-b45e5869fc83"
      },
      "execution_count": 23,
      "outputs": [
        {
          "output_type": "stream",
          "name": "stdout",
          "text": [
            "<class 'int'>\n",
            "<class 'float'>\n",
            "<class 'str'>\n",
            "<class 'bool'>\n"
          ]
        }
      ]
    },
    {
      "cell_type": "code",
      "source": [
        "x = 10  # Integer\n",
        "y = 20.2  # Float\n",
        "\n",
        "z = x + y\n",
        "print(z)\n",
        "print(type(z))"
      ],
      "metadata": {
        "colab": {
          "base_uri": "https://localhost:8080/"
        },
        "id": "TL-B1Vgi2TxQ",
        "outputId": "e4a35fe7-1ddf-4b2b-a2b8-6eba34e9a504"
      },
      "execution_count": 24,
      "outputs": [
        {
          "output_type": "stream",
          "name": "stdout",
          "text": [
            "30.2\n",
            "<class 'float'>\n"
          ]
        }
      ]
    },
    {
      "cell_type": "code",
      "source": [
        "x = 10  # Integer\n",
        "y = True  # Boolean\n",
        "\n",
        "z = x + y\n",
        "print(z)"
      ],
      "metadata": {
        "colab": {
          "base_uri": "https://localhost:8080/"
        },
        "id": "8onq_TiC2Yef",
        "outputId": "3f1078ed-7838-4c33-b0dd-dd173ca4bf3c"
      },
      "execution_count": 25,
      "outputs": [
        {
          "output_type": "stream",
          "name": "stdout",
          "text": [
            "11\n"
          ]
        }
      ]
    },
    {
      "cell_type": "markdown",
      "source": [
        "Try it yourself:\n",
        "Create variables for the following:\n",
        "Puppy's age (int): 10\n",
        "Puppy's weight (float): 20.5 kilograms,\n",
        "Puppy's friendly status (bool): True.\n",
        "Print the data type of each variable using the type() function."
      ],
      "metadata": {
        "id": "iTyoRKYW2idm"
      }
    },
    {
      "cell_type": "code",
      "source": [
        "Puppy_age = 10\n",
        "Puppy_weight = 20.5\n",
        "Puppy_friendly_status = True\n",
        "\n",
        "print(type(Puppy_age))\n",
        "print(type(Puppy_weight))\n",
        "print(type(Puppy_friendly_status))"
      ],
      "metadata": {
        "colab": {
          "base_uri": "https://localhost:8080/"
        },
        "id": "NU3916jc2jTo",
        "outputId": "4efc69e9-c9bd-4c3a-f079-1bb305e3040b"
      },
      "execution_count": 26,
      "outputs": [
        {
          "output_type": "stream",
          "name": "stdout",
          "text": [
            "<class 'int'>\n",
            "<class 'float'>\n",
            "<class 'bool'>\n"
          ]
        }
      ]
    },
    {
      "cell_type": "code",
      "source": [
        "# Single quotes\n",
        "dog_name = 'Puppy'\n",
        "\n",
        "# Double quotes\n",
        "dog_breed = \"Poodle\"\n",
        "\n",
        "# Triple quotes for multi-line strings\n",
        "dog_description = \"\"\"Puppy is a playful dog.\n",
        "He loves to fetch balls and run in the park.\"\"\"\n",
        "\n",
        "print(dog_name, dog_breed, dog_description)"
      ],
      "metadata": {
        "colab": {
          "base_uri": "https://localhost:8080/"
        },
        "id": "qeNnprye3jYY",
        "outputId": "64def2d2-12b9-47b9-c2dc-0dbbd86a2663"
      },
      "execution_count": 27,
      "outputs": [
        {
          "output_type": "stream",
          "name": "stdout",
          "text": [
            "Puppy Poodle Puppy is a playful dog.\n",
            "He loves to fetch balls and run in the park.\n"
          ]
        }
      ]
    },
    {
      "cell_type": "code",
      "source": [
        "name = \"Puppy\"\n",
        "activity = \"fetches the ball\"\n",
        "\n",
        "sentence = name + \" \" + activity\n",
        "\n",
        "print(sentence)  # Output: Puppy fetches the ball"
      ],
      "metadata": {
        "colab": {
          "base_uri": "https://localhost:8080/"
        },
        "id": "UCXRIust4CDQ",
        "outputId": "6ee74833-910d-4416-a943-90caeb1ace71"
      },
      "execution_count": 28,
      "outputs": [
        {
          "output_type": "stream",
          "name": "stdout",
          "text": [
            "Puppy fetches the ball\n"
          ]
        }
      ]
    },
    {
      "cell_type": "code",
      "source": [
        "chalkboard_phrase = \"Puppy will not be eaten by a python!\\n Or will he?\\n\"\n",
        "print(chalkboard_phrase * 4)"
      ],
      "metadata": {
        "colab": {
          "base_uri": "https://localhost:8080/"
        },
        "id": "QYYosHIk5XoO",
        "outputId": "3c93a29e-56e6-4da5-de55-f2ab7fd5e3cb"
      },
      "execution_count": 29,
      "outputs": [
        {
          "output_type": "stream",
          "name": "stdout",
          "text": [
            "Puppy will not be eaten by a python!\n",
            " Or will he?\n",
            "Puppy will not be eaten by a python!\n",
            " Or will he?\n",
            "Puppy will not be eaten by a python!\n",
            " Or will he?\n",
            "Puppy will not be eaten by a python!\n",
            " Or will he?\n",
            "\n"
          ]
        }
      ]
    },
    {
      "cell_type": "markdown",
      "source": [
        "Try it yourself:\n",
        "Create a string that introduces Puppy, including his name,  breed, and color. Use string concatenation + to form the sentence:\n",
        "\n",
        "\"Puppy is a black poodle.\"\n",
        "\n",
        "name = \"Puppy\"\n",
        "breed = \"poodle\"\n",
        "color = \"black\""
      ],
      "metadata": {
        "id": "jXZfnOo_5r8A"
      }
    },
    {
      "cell_type": "code",
      "source": [
        "name = \"Puppy\"\n",
        "breed = \"poodle\"\n",
        "color = \"black\""
      ],
      "metadata": {
        "id": "1yx_njNR5yKP"
      },
      "execution_count": 30,
      "outputs": []
    },
    {
      "cell_type": "code",
      "source": [
        "sentence = name + \" is a \" + color + \" \" + breed + \".\"\n",
        "print(sentence)\n"
      ],
      "metadata": {
        "colab": {
          "base_uri": "https://localhost:8080/"
        },
        "id": "T72iM29M5zon",
        "outputId": "df092288-5932-4aea-fdae-d7a84ae90296"
      },
      "execution_count": 31,
      "outputs": [
        {
          "output_type": "stream",
          "name": "stdout",
          "text": [
            "Puppy is a black poodle.\n"
          ]
        }
      ]
    },
    {
      "cell_type": "code",
      "source": [
        "name = \"Puppy\"\n",
        "age = 10\n",
        "\n",
        "sentence = f\"{name} is {age} years old.\"\n",
        "print(sentence)\n"
      ],
      "metadata": {
        "colab": {
          "base_uri": "https://localhost:8080/"
        },
        "id": "CunieN-F6Kq3",
        "outputId": "55b320df-2713-4a05-cf47-c7d2097cf809"
      },
      "execution_count": 32,
      "outputs": [
        {
          "output_type": "stream",
          "name": "stdout",
          "text": [
            "Puppy is 10 years old.\n"
          ]
        }
      ]
    },
    {
      "cell_type": "code",
      "source": [
        "name = \"Puppy\"\n",
        "age = 10\n",
        "human_years = age * 7  # 1 dog year = 7 human years (approx.)\n",
        "\n",
        "sentence = f\"{name} is {age} years old, which is {human_years} in human years.\"\n",
        "print(sentence)\n"
      ],
      "metadata": {
        "colab": {
          "base_uri": "https://localhost:8080/"
        },
        "id": "Cs187Vjo6fk4",
        "outputId": "c48c2948-224a-4c20-e373-dd38694d7a50"
      },
      "execution_count": 33,
      "outputs": [
        {
          "output_type": "stream",
          "name": "stdout",
          "text": [
            "Puppy is 10 years old, which is 70 in human years.\n"
          ]
        }
      ]
    },
    {
      "cell_type": "code",
      "source": [
        "distance_run = 5.6789\n",
        "print(f\"Puppy ran {distance_run:.2f} kilometers today.\")\n",
        "\n",
        "dog_id = 42\n",
        "print(f\"Puppy's ID is {dog_id:05}.\")\n",
        "\n",
        "balls_fetched = 20\n",
        "print(f\"Puppy fetched {balls_fetched:<10} balls.\")\n",
        "print(f\"Puppy fetched {balls_fetched:>10} balls.\")\n",
        "\n",
        "completion_rate = 0.85\n",
        "print(f\"Puppy completed {completion_rate:.0%} of his training.\")\n",
        "\n",
        "population = 3548438\n",
        "print(f\"The population of Puppy's birth city is {population:,}.\")"
      ],
      "metadata": {
        "colab": {
          "base_uri": "https://localhost:8080/"
        },
        "id": "OLaN1-M560gV",
        "outputId": "42dc753e-78a1-4572-8c5b-5cd0f9bffaff"
      },
      "execution_count": 34,
      "outputs": [
        {
          "output_type": "stream",
          "name": "stdout",
          "text": [
            "Puppy ran 5.68 kilometers today.\n",
            "Puppy's ID is 00042.\n",
            "Puppy fetched 20         balls.\n",
            "Puppy fetched         20 balls.\n",
            "Puppy completed 85% of his training.\n",
            "The population of Puppy's birth city is 3,548,438.\n"
          ]
        }
      ]
    },
    {
      "cell_type": "markdown",
      "source": [
        "Try it yourself:\n",
        "Write a program that uses f-strings to format and print the following sentence:\n",
        "\n",
        "\"Puppy is a 10-year-old black poodle who loves playing with his favorite toy, the ball.\"\n",
        "\n",
        "name = \"Puppy\"\n",
        "age = 10\n",
        "color = \"black\"\n",
        "breed = \"poodle\"\n",
        "favorite_toy = \"ball\"\n",
        "\n",
        "Use an f-string to format and print the sentence"
      ],
      "metadata": {
        "id": "KTm8D2sw7Jpu"
      }
    },
    {
      "cell_type": "code",
      "source": [
        "name = \"Puppy\"\n",
        "age = 10\n",
        "color = \"black\"\n",
        "breed = \"poodle\"\n",
        "favorite_toy = \"ball\"\n",
        "\n",
        "sentence = f\"{name} is a {age}-year-old {color} {breed} who loves playing with his favorite toy, the {favorite_toy}.\"\n",
        "print(sentence)"
      ],
      "metadata": {
        "colab": {
          "base_uri": "https://localhost:8080/"
        },
        "id": "asZLLEOM7Snw",
        "outputId": "d0136c88-e577-47bc-b958-01798e3cea7f"
      },
      "execution_count": 35,
      "outputs": [
        {
          "output_type": "stream",
          "name": "stdout",
          "text": [
            "Puppy is a 10-year-old black poodle who loves playing with his favorite toy, the ball.\n"
          ]
        }
      ]
    },
    {
      "cell_type": "code",
      "source": [
        "age = 10\n",
        "\n",
        "if age < 15:\n",
        "    print(\"Puppy is not that old!\")"
      ],
      "metadata": {
        "colab": {
          "base_uri": "https://localhost:8080/"
        },
        "id": "9rD56zxX97v4",
        "outputId": "841aa0fc-eea1-479c-df21-ca220a3b2c16"
      },
      "execution_count": 36,
      "outputs": [
        {
          "output_type": "stream",
          "name": "stdout",
          "text": [
            "Puppy is not that old!\n"
          ]
        }
      ]
    },
    {
      "cell_type": "code",
      "source": [
        "age = 10\n",
        "if age < 5:\n",
        "    print(\"Puppy is still a baby.\")\n",
        "else:\n",
        "    print(\"Puppy is growing up!\")\n"
      ],
      "metadata": {
        "colab": {
          "base_uri": "https://localhost:8080/"
        },
        "id": "7o7NJxlD-NRg",
        "outputId": "6aecc3d8-d317-472b-835f-8eac6e07427c"
      },
      "execution_count": 37,
      "outputs": [
        {
          "output_type": "stream",
          "name": "stdout",
          "text": [
            "Puppy is growing up!\n"
          ]
        }
      ]
    },
    {
      "cell_type": "code",
      "source": [
        "age = 10\n",
        "\n",
        "if age < 2:\n",
        "    print(\"Puppy is a newborn.\")\n",
        "elif age < 5:\n",
        "    print(\"Puppy is still very young.\")\n",
        "else:\n",
        "    print(\"Puppy is fully grown!\")"
      ],
      "metadata": {
        "colab": {
          "base_uri": "https://localhost:8080/"
        },
        "id": "BY3tJQPZ-USw",
        "outputId": "3d4cf5b3-44d3-448d-adef-eee64e83dd21"
      },
      "execution_count": 38,
      "outputs": [
        {
          "output_type": "stream",
          "name": "stdout",
          "text": [
            "Puppy is fully grown!\n"
          ]
        }
      ]
    },
    {
      "cell_type": "markdown",
      "source": [
        "Try it yourself:\n",
        "Check Puppy's age using conditional statements:\n",
        "\n",
        "If Puppy is younger than 5, print \"Puppy is still very young!\"\n",
        "If Puppy is between 5 and 10 (inclusive), print \"Puppy is in his prime!\"\n",
        "Otherwise, print \"Puppy is a wise and experienced dog.\".\n",
        "\n",
        "name = \"Puppy\"\n",
        "age = 10"
      ],
      "metadata": {
        "id": "u3C_1Pg0-q_Y"
      }
    },
    {
      "cell_type": "code",
      "source": [
        "name = \"Puppy\"\n",
        "age = 10\n",
        "\n",
        "if age < 5:\n",
        "    print(\"Puppy is still very young!\")\n",
        "elif age <= 10:\n",
        "    print(\"Puppy is in his prime!\")\n",
        "else:\n",
        "    print(\"Puppy is a wise and experienced dog.\")"
      ],
      "metadata": {
        "colab": {
          "base_uri": "https://localhost:8080/"
        },
        "id": "0Mt5o0hU-zgg",
        "outputId": "ed0799bd-26f5-4a42-f1e7-68786aa6ebe7"
      },
      "execution_count": 39,
      "outputs": [
        {
          "output_type": "stream",
          "name": "stdout",
          "text": [
            "Puppy is in his prime!\n"
          ]
        }
      ]
    },
    {
      "cell_type": "markdown",
      "source": [
        "Try it yourself:\n",
        "Write a program that checks Puppy's weight and age using comparison and logical operators, and prints a suitable message based on the conditions:\n",
        "If Puppy weighs less than 25.0 kg and is younger than 10, print: \"Puppy is young and light!\"\n",
        "If Puppy weighs less than 25.0 kg or is exactly 10 years old, print: \"Puppy is either light or a wise 10-year-old!\"\n",
        "If neither condition is met, print: \"Puppy is strong and mature.\"\n"
      ],
      "metadata": {
        "id": "UQ-EOq9VpKUJ"
      }
    },
    {
      "cell_type": "code",
      "source": [
        "# Define Puppy's details\n",
        "weight = 20.5\n",
        "age = 10\n",
        "\n",
        "# Use logical operators to check the conditions and print appropriate messages\n",
        "\n",
        "if weight < 25.0 and age < 10:\n",
        "    print(\"Puppy is young and light!\")\n",
        "elif weight < 25.0 or age == 10:\n",
        "    print(\"Puppy is either light or a wise 10-year-old!\")\n",
        "else:\n",
        "    print(\"Puppy is strong and mature.\")"
      ],
      "metadata": {
        "colab": {
          "base_uri": "https://localhost:8080/"
        },
        "id": "6OyxTiTrpJmC",
        "outputId": "c4479aa9-fb50-4c77-dacc-560639d56470"
      },
      "execution_count": 40,
      "outputs": [
        {
          "output_type": "stream",
          "name": "stdout",
          "text": [
            "Puppy is either light or a wise 10-year-old!\n"
          ]
        }
      ]
    },
    {
      "cell_type": "markdown",
      "source": [
        "Try it yourself:\n",
        "Create a nested list representing Puppy's daily schedule. Each sub-list should represent a part of the day:\n",
        "Morning: \"eat breakfast\", \"go for a walk\".\n",
        "Afternoon: \"nap\", \"play in the yard\".\n",
        "Evening: \"dinner\", \"cuddle time\".\n",
        "Then write code that:\n",
        "Prints the entire schedule.\n"
      ],
      "metadata": {
        "id": "imqrT6Pc5Cri"
      }
    },
    {
      "cell_type": "code",
      "source": [
        "Morning = [\"eat breakfast\", \"go for a walk\"]\n",
        "Afternoon = [\"nap\", \"play in the yard\"]\n",
        "Evening = [\"dinner\", \"cuddle time\"]\n",
        "\n",
        "Puppy_schedule = [Morning, Afternoon, Evening]\n",
        "\n",
        "print(Puppy_schedule)"
      ],
      "metadata": {
        "colab": {
          "base_uri": "https://localhost:8080/"
        },
        "id": "uKgwy3xS5DRZ",
        "outputId": "034c1261-59b0-4205-aedf-98d5b0a5df73"
      },
      "execution_count": 41,
      "outputs": [
        {
          "output_type": "stream",
          "name": "stdout",
          "text": [
            "[['eat breakfast', 'go for a walk'], ['nap', 'play in the yard'], ['dinner', 'cuddle time']]\n"
          ]
        }
      ]
    },
    {
      "cell_type": "markdown",
      "source": [
        "Try it yourself:\n",
        "Create a nested list that represents Puppy's daily activity schedule for a week. Each sub-list should represent a day's activities:\n",
        "Monday: \"morning walk\", \"playtime\", \"evening cuddle\".\n",
        "Tuesday: \"morning walk\", \"nap\", \"fetch\".\n",
        "Wednesday: \"grooming\", \"nap\", \"evening cuddle\".\n",
        "Thursday: \"morning walk\", \"playtime\", \"fetch\".\n",
        "Friday: \"grooming\", \"nap\", \"evening cuddle\".\n",
        "Saturday: \"morning walk\", \"playtime\", \"fetch\".\n",
        "Sunday: \"special meal\", \"nap\", \"evening cuddle\".\n",
        "Then write code that:\n",
        "Prints Puppy's activities for Thursday (use indexing).\n",
        "Slices and prints Puppy's schedule for the weekend (Saturday and Sunday).\n",
        "Slices and prints the activities for the first three days after Monday (Tuesday, Wednesday, and Thursday).\n"
      ],
      "metadata": {
        "id": "h7IbnMMJWRl-"
      }
    },
    {
      "cell_type": "code",
      "source": [
        "Monday = [\"morning walk\", \"playtime\", \"evening cuddle\"]\n",
        "Tuesday = [\"morning walk\", \"nap\", \"fetch\"]\n",
        "Wednesday = [\"grooming\", \"nap\", \"evening cuddle\"]\n",
        "Thursday = [\"morning walk\", \"playtime\", \"fetch\"]\n",
        "Friday = [\"grooming\", \"nap\", \"evening cuddle\"]\n",
        "Saturday = [\"morning walk\", \"playtime\", \"fetch\"]\n",
        "Sunday = [\"special meal\", \"nap\", \"evening cuddle\"]\n",
        "Puppy_schedule = [Monday, Tuesday, Wednesday, Thursday, Friday, Saturday, Sunday]\n",
        "print(Puppy_schedule[3])\n",
        "print(Puppy_schedule[5:7])\n",
        "print(Puppy_schedule[1:4])"
      ],
      "metadata": {
        "colab": {
          "base_uri": "https://localhost:8080/"
        },
        "id": "iC-TB3rRWTHt",
        "outputId": "b798368f-36b9-4db4-87ed-22690b1c76ff"
      },
      "execution_count": 7,
      "outputs": [
        {
          "output_type": "stream",
          "name": "stdout",
          "text": [
            "['morning walk', 'playtime', 'fetch']\n",
            "[['morning walk', 'playtime', 'fetch'], ['special meal', 'nap', 'evening cuddle']]\n",
            "[['morning walk', 'nap', 'fetch'], ['grooming', 'nap', 'evening cuddle'], ['morning walk', 'playtime', 'fetch']]\n"
          ]
        }
      ]
    },
    {
      "cell_type": "markdown",
      "source": [
        "Try it yourself:\n",
        "Start with a list of Puppy's favorite toys: [\"ball\", \"bone\", \"frisbee\"].\n",
        "Perform the following operations on the list:\n",
        "Add \"stick\" to the end of the list using append().\n",
        "Insert \"rope\" at the second position using insert(), don’t forget indexing starts at 0.\n",
        "Concatenate the list with another list: [\"rubber duck\", \"chew toy\"].\n",
        "Sort the updated list in alphabetical order using .sort().\n",
        "Print the updated list after each operation.\n"
      ],
      "metadata": {
        "id": "_wKmsRcHc3sQ"
      }
    },
    {
      "cell_type": "code",
      "source": [
        "# Start with Puppy's initial toy list\n",
        "toys = [\"ball\", \"bone\", \"frisbee\"]\n",
        "Puppy_favorite_toys = [\"ball\", \"bone\", \"frisbee\"]\n",
        "# 1. Add \"stick\" to the end using append()\n",
        "Puppy_favorite_toys.append(\"stick\")\n",
        "\n",
        "# 2. Insert \"rope\" at the second position\n",
        "Puppy_favorite_toys.insert(1, \"rope\")\n",
        "\n",
        "# 3. Concatenate with another list of toys\n",
        "new_toys = [\"rubber duck\", \"chew toy\"]\n",
        "combined = Puppy_favorite_toys + new_toys\n",
        "print(combined)\n",
        "\n",
        "# 4. Sort the list alphabetically\n",
        "combined.sort()\n",
        "\n",
        "\n",
        "\n",
        "\n",
        "\n"
      ],
      "metadata": {
        "colab": {
          "base_uri": "https://localhost:8080/"
        },
        "id": "sA7NMv9pc4d_",
        "outputId": "a7b29d1d-983d-42e6-888c-54ad299d9cee"
      },
      "execution_count": 8,
      "outputs": [
        {
          "output_type": "stream",
          "name": "stdout",
          "text": [
            "['ball', 'rope', 'bone', 'frisbee', 'stick', 'rubber duck', 'chew toy']\n"
          ]
        }
      ]
    },
    {
      "cell_type": "markdown",
      "source": [
        "Try it yourself:\n",
        "Start with a list of Puppy's weekly activities:\n",
        "\n",
        "activities = [\n",
        "    'morning walk', 'nap', 'playtime',\n",
        "    'grooming', 'nap', 'fetch',\n",
        "    'nap time', 'dinner', 'cuddle',\n",
        "    ]\n",
        "\n",
        "    Write code that:\n",
        "Loops through the list of activities and prints each activity along with its position in the week (e.g., \"1. morning walk\").\n",
        "Counts how many activities contain the word \"nap\".\n",
        "Prints once in the end of the program the phrase: “Puppy napped X times this week.”\n"
      ],
      "metadata": {
        "id": "wnqBgHMvgv5v"
      }
    },
    {
      "cell_type": "code",
      "source": [
        "activities = [\n",
        "    'morning walk', 'nap', 'playtime',\n",
        "    'grooming', 'nap', 'fetch',\n",
        "    'nap time', 'dinner', 'cuddle',\n",
        "    ]\n",
        "\n",
        "# Add code to perform the tasks\n",
        "activities = [\n",
        "    'morning walk', 'nap', 'playtime',\n",
        "    'grooming', 'nap', 'fetch',\n",
        "    'nap time', 'dinner', 'cuddle',\n",
        "    ]\n",
        "position = 0\n",
        "for activity in activities:\n",
        "  position += 1\n",
        "  print(position, activities)\n",
        "\n",
        "\n",
        "\n",
        "    if \"nap\" in activity.lower():\n",
        "        nap_count += 1\n",
        "print(f\"Puppy napped {nap_count} times this week.\")\n"
      ],
      "metadata": {
        "colab": {
          "base_uri": "https://localhost:8080/"
        },
        "id": "kQhqJNkogwTu",
        "outputId": "611b7127-1125-4295-dff1-1c9b2c3a4013"
      },
      "execution_count": 48,
      "outputs": [
        {
          "output_type": "stream",
          "name": "stdout",
          "text": [
            "1 morning walk\n",
            "2 nap\n",
            "3 playtime\n",
            "4 grooming\n",
            "5 nap\n",
            "6 fetch\n",
            "7 nap time\n",
            "8 dinner\n",
            "9 cuddle\n"
          ]
        }
      ]
    },
    {
      "cell_type": "markdown",
      "source": [
        "Try it yourself:\n",
        "Create a dictionary representing Puppy's weekly schedule. Each day maps to a list of Puppy's activities:\n",
        "Monday: \"morning walk\", \"nap\", \"playtime\"\n",
        "Tuesday: \"grooming\", \"nap\", \"fetch\"\n",
        "Wednesday: \"morning walk\", \"nap\", \"cuddle\"\n",
        "Thursday: \"playtime\", \"fetch\", \"dinner\"\n",
        "Friday: \"morning walk\", \"nap\", \"grooming\"\n",
        "Saturday: \"playtime\", \"fetch\", \"special meal\"\n",
        "Sunday: \"cuddle\", \"nap\", \"evening walk\"\n",
        "Write code that:\n",
        "Uses the get() method to retrieve and print the activities for \"Tuesday\". If \"Tuesday\" doesn't exist, print a default message.\n",
        "Removes and prints all activities for \"Saturday\" using the pop() method.\n",
        "Iterates through the remaining days and prints each day along with its activities.\n"
      ],
      "metadata": {
        "id": "ltYFk4pPt3Rh"
      }
    },
    {
      "cell_type": "code",
      "source": [
        "# Puppy's weekly schedule\n",
        "weekly_schedule = { \"Monday\":[\"morning walk\", \"nap\", \"playtime\"],\n",
        "                    \"Tuesday\":[\"grooming\", \"nap\", \"fetch\"] ,\n",
        "                    \"Wednesday\":[\"morning walk\", \"nap\", \"cuddle\"] ,\n",
        "                    \"Thursday\":[\"playtime\", \"fetch\", \"dinner\"] ,\n",
        "                    \"Friday\":[\"morning walk\", \"nap\", \"grooming\"] ,\n",
        "                    \"Saturday\":[\"playtime\", \"fetch\", \"special meal\"] ,\n",
        "                    \"Sunday\":[\"cuddle\", \"nap\", \"evening walk\"] }\n",
        "\n",
        "\n",
        "# Add code to use get() and pop() methods and iterate through the dictionary\n",
        "weekly_schedule.get(\"Tuesday\", \"Default message\")\n",
        "print(weekly_schedule.get(\"Tuesday\", \"Default message\"))\n",
        "\n",
        "print(weekly_schedule.pop(\"Saturday\"))\n",
        "for day, activities in weekly_schedule.items():\n",
        "  print(day, activities)\n",
        "weekly_schedule.pop(\"Saturday\")"
      ],
      "metadata": {
        "colab": {
          "base_uri": "https://localhost:8080/",
          "height": 106
        },
        "id": "RYgeYrcOt4HA",
        "outputId": "3c46a4e1-b475-44e3-90d4-f07a07c8f0a5"
      },
      "execution_count": 50,
      "outputs": [
        {
          "output_type": "error",
          "ename": "SyntaxError",
          "evalue": "':' expected after dictionary key (<ipython-input-50-dfd93d992acc>, line 2)",
          "traceback": [
            "\u001b[0;36m  File \u001b[0;32m\"<ipython-input-50-dfd93d992acc>\"\u001b[0;36m, line \u001b[0;32m2\u001b[0m\n\u001b[0;31m    weekly_schedule = {\"Monday\": \"morning walk\", \"nap\", \"playtime\",\u001b[0m\n\u001b[0m                                                     ^\u001b[0m\n\u001b[0;31mSyntaxError\u001b[0m\u001b[0;31m:\u001b[0m ':' expected after dictionary key\n"
          ]
        }
      ]
    }
  ]
}